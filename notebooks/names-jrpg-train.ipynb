{
 "cells": [
  {
   "cell_type": "code",
   "execution_count": 1,
   "metadata": {
    "execution": {
     "iopub.execute_input": "2021-06-16T15:23:08.018637Z",
     "iopub.status.busy": "2021-06-16T15:23:08.018060Z",
     "iopub.status.idle": "2021-06-16T15:23:09.387014Z",
     "shell.execute_reply": "2021-06-16T15:23:09.387435Z"
    },
    "id": "yG_n40gFzf9s"
   },
   "outputs": [],
   "source": [
    "import tensorflow as tf\n",
    "# from tensorflow.keras.layers.experimental import preprocessing\n",
    "\n",
    "import numpy as np\n",
    "# import os\n",
    "import time\n",
    "# import pickle"
   ]
  },
  {
   "cell_type": "code",
   "execution_count": 2,
   "metadata": {},
   "outputs": [],
   "source": [
    "from names import check, raw_data, vectorize, seq_model"
   ]
  },
  {
   "cell_type": "markdown",
   "metadata": {
    "id": "UHjdCjDuSvX_"
   },
   "source": [
    "### Read the data\n",
    "\n",
    "First, look in the text:"
   ]
  },
  {
   "cell_type": "code",
   "execution_count": 3,
   "metadata": {
    "execution": {
     "iopub.execute_input": "2021-06-16T15:23:09.799308Z",
     "iopub.status.busy": "2021-06-16T15:23:09.798771Z",
     "iopub.status.idle": "2021-06-16T15:23:09.802851Z",
     "shell.execute_reply": "2021-06-16T15:23:09.802454Z"
    },
    "id": "aavnuByVymwK"
   },
   "outputs": [
    {
     "name": "stdout",
     "output_type": "stream",
     "text": [
      "Length of text: 651954 characters\n"
     ]
    }
   ],
   "source": [
    "raw = raw_data.load_raw(\"../data/names.txt\")\n",
    "text = raw_data.join_raw(raw)\n",
    "vocab = vectorize.extract_vocab(text)\n",
    "\n",
    "print(f'Length of text: {len(text)} characters')"
   ]
  },
  {
   "cell_type": "code",
   "execution_count": 4,
   "metadata": {},
   "outputs": [
    {
     "data": {
      "text/plain": [
       "'Adray Lasbard                                                                                       \\nAlbel Nox                                                                                           \\nCliff Fittir                                                                                      '"
      ]
     },
     "execution_count": 4,
     "metadata": {},
     "output_type": "execute_result"
    }
   ],
   "source": [
    "text[:300]"
   ]
  },
  {
   "cell_type": "code",
   "execution_count": 5,
   "metadata": {
    "execution": {
     "iopub.execute_input": "2021-06-16T15:23:09.806036Z",
     "iopub.status.busy": "2021-06-16T15:23:09.805502Z",
     "iopub.status.idle": "2021-06-16T15:23:09.807205Z",
     "shell.execute_reply": "2021-06-16T15:23:09.807599Z"
    },
    "id": "Duhg9NrUymwO"
   },
   "outputs": [
    {
     "name": "stdout",
     "output_type": "stream",
     "text": [
      "Adray Lasbard                                                                                       \n",
      "Albel Nox                                                                                           \n",
      "Cliff Fittir                                    \n"
     ]
    }
   ],
   "source": [
    "# Take a look at the first 250 characters in text\n",
    "print(text[:250])"
   ]
  },
  {
   "cell_type": "code",
   "execution_count": 6,
   "metadata": {
    "execution": {
     "iopub.execute_input": "2021-06-16T15:23:09.819578Z",
     "iopub.status.busy": "2021-06-16T15:23:09.819053Z",
     "iopub.status.idle": "2021-06-16T15:23:09.820995Z",
     "shell.execute_reply": "2021-06-16T15:23:09.821315Z"
    },
    "id": "IlCgQBRVymwR"
   },
   "outputs": [
    {
     "name": "stdout",
     "output_type": "stream",
     "text": [
      "78 unique characters\n"
     ]
    }
   ],
   "source": [
    "# The unique characters in the file\n",
    "vocab = vectorize.extract_vocab(text)\n",
    "print(f'{len(vocab)} unique characters')"
   ]
  },
  {
   "cell_type": "markdown",
   "metadata": {
    "id": "rNnrKn_lL-IJ"
   },
   "source": [
    "## Process the text"
   ]
  },
  {
   "cell_type": "markdown",
   "metadata": {
    "id": "LFjSVAlWzf-N"
   },
   "source": [
    "### Vectorize the text\n",
    "\n",
    "Before training, you need to convert the strings to a numerical representation. \n",
    "\n",
    "The `preprocessing.StringLookup` layer can convert each character into a numeric ID. It just needs the text to be split into tokens first."
   ]
  },
  {
   "cell_type": "code",
   "execution_count": 7,
   "metadata": {
    "execution": {
     "iopub.execute_input": "2021-06-16T15:23:11.106489Z",
     "iopub.status.busy": "2021-06-16T15:23:11.105807Z",
     "iopub.status.idle": "2021-06-16T15:23:11.384611Z",
     "shell.execute_reply": "2021-06-16T15:23:11.383945Z"
    },
    "id": "a86OoYtO01go"
   },
   "outputs": [
    {
     "data": {
      "text/plain": [
       "<tf.RaggedTensor [[b'a', b'b', b'c', b'd', b'e', b'f', b'g'], [b'x', b'y', b'z']]>"
      ]
     },
     "execution_count": 7,
     "metadata": {},
     "output_type": "execute_result"
    }
   ],
   "source": [
    "example_texts = ['abcdefg', 'xyz']\n",
    "\n",
    "chars = vectorize.unicode_split(example_texts)\n",
    "chars"
   ]
  },
  {
   "cell_type": "code",
   "execution_count": 8,
   "metadata": {},
   "outputs": [],
   "source": [
    "vectorator = vectorize.Vectorator(vocab)"
   ]
  },
  {
   "cell_type": "markdown",
   "metadata": {
    "id": "ZmX_jbgQqfOi"
   },
   "source": [
    "It converts form tokens to character IDs:"
   ]
  },
  {
   "cell_type": "code",
   "execution_count": 9,
   "metadata": {
    "execution": {
     "iopub.execute_input": "2021-06-16T15:23:11.403321Z",
     "iopub.status.busy": "2021-06-16T15:23:11.402650Z",
     "iopub.status.idle": "2021-06-16T15:23:11.406461Z",
     "shell.execute_reply": "2021-06-16T15:23:11.406788Z"
    },
    "id": "WLv5Q_2TC2pc"
   },
   "outputs": [
    {
     "data": {
      "text/plain": [
       "<tf.RaggedTensor [[45, 46, 47, 48, 49, 50, 51], [68, 69, 70]]>"
      ]
     },
     "execution_count": 9,
     "metadata": {},
     "output_type": "execute_result"
    }
   ],
   "source": [
    "ids = vectorator.ids_from_chars(chars)\n",
    "ids"
   ]
  },
  {
   "cell_type": "markdown",
   "metadata": {
    "id": "tZfqhkYCymwX"
   },
   "source": [
    "Since the goal of this tutorial is to generate text, it will also be important to invert this representation and recover human-readable strings from it. For this you can use `preprocessing.StringLookup(..., invert=True)`.  "
   ]
  },
  {
   "cell_type": "markdown",
   "metadata": {
    "id": "uenivzwqsDhp"
   },
   "source": [
    "Note: Here instead of passing the original vocabulary generated with `sorted(set(text))` use the `get_vocabulary()` method of the `preprocessing.StringLookup` layer so that the `[UNK]` tokens is set the same way."
   ]
  },
  {
   "cell_type": "markdown",
   "metadata": {
    "id": "pqTDDxS-s-H8"
   },
   "source": [
    "This layer recovers the characters from the vectors of IDs, and returns them as a `tf.RaggedTensor` of characters:"
   ]
  },
  {
   "cell_type": "code",
   "execution_count": 10,
   "metadata": {
    "execution": {
     "iopub.execute_input": "2021-06-16T15:23:11.418750Z",
     "iopub.status.busy": "2021-06-16T15:23:11.418100Z",
     "iopub.status.idle": "2021-06-16T15:23:11.421360Z",
     "shell.execute_reply": "2021-06-16T15:23:11.421695Z"
    },
    "id": "c2GCh0ySD44s"
   },
   "outputs": [
    {
     "data": {
      "text/plain": [
       "<tf.RaggedTensor [[b'a', b'b', b'c', b'd', b'e', b'f', b'g'], [b'x', b'y', b'z']]>"
      ]
     },
     "execution_count": 10,
     "metadata": {},
     "output_type": "execute_result"
    }
   ],
   "source": [
    "chars = vectorator.chars_from_ids(ids)\n",
    "chars"
   ]
  },
  {
   "cell_type": "markdown",
   "metadata": {
    "id": "bbmsf23Bymwe"
   },
   "source": [
    "### The prediction task"
   ]
  },
  {
   "cell_type": "markdown",
   "metadata": {
    "id": "wssHQ1oGymwe"
   },
   "source": [
    "Given a character, or a sequence of characters, what is the most probable next character? This is the task you're training the model to perform. The input to the model will be a sequence of characters, and you train the model to predict the output—the following character at each time step.\n",
    "\n",
    "Since RNNs maintain an internal state that depends on the previously seen elements, given all the characters computed until this moment, what is the next character?\n"
   ]
  },
  {
   "cell_type": "markdown",
   "metadata": {
    "id": "hgsVvVxnymwf"
   },
   "source": [
    "### Create training examples and targets\n",
    "\n",
    "Next divide the text into example sequences. Each input sequence will contain `seq_length` characters from the text.\n",
    "\n",
    "For each input sequence, the corresponding targets contain the same length of text, except shifted one character to the right.\n",
    "\n",
    "So break the text into chunks of `seq_length+1`. For example, say `seq_length` is 4 and our text is \"Hello\". The input sequence would be \"Hell\", and the target sequence \"ello\".\n",
    "\n",
    "To do this first use the `tf.data.Dataset.from_tensor_slices` function to convert the text vector into a stream of character indices."
   ]
  },
  {
   "cell_type": "code",
   "execution_count": 11,
   "metadata": {},
   "outputs": [],
   "source": [
    "ds = vectorize.DataSet(text)"
   ]
  },
  {
   "cell_type": "markdown",
   "metadata": {
    "id": "-ZSYAcQV8OGP"
   },
   "source": [
    "The `batch` method lets you easily convert these individual characters to sequences of the desired size."
   ]
  },
  {
   "cell_type": "markdown",
   "metadata": {
    "id": "UbLcIPBj_mWZ"
   },
   "source": [
    "For training you'll need a dataset of `(input, label)` pairs. Where `input` and \n",
    "`label` are sequences. At each time step the input is the current character and the label is the next character. \n",
    "\n",
    "Here's a function that takes a sequence as input, duplicates, and shifts it to align the input and label for each timestep:"
   ]
  },
  {
   "cell_type": "code",
   "execution_count": 12,
   "metadata": {
    "execution": {
     "iopub.execute_input": "2021-06-16T15:23:11.963007Z",
     "iopub.status.busy": "2021-06-16T15:23:11.962343Z",
     "iopub.status.idle": "2021-06-16T15:23:11.965433Z",
     "shell.execute_reply": "2021-06-16T15:23:11.964994Z"
    },
    "id": "WxbDTJTw5u_P"
   },
   "outputs": [
    {
     "data": {
      "text/plain": [
       "(['T', 'e', 'n', 's', 'o', 'r', 'f', 'l', 'o'],\n",
       " ['e', 'n', 's', 'o', 'r', 'f', 'l', 'o', 'w'])"
      ]
     },
     "execution_count": 12,
     "metadata": {},
     "output_type": "execute_result"
    }
   ],
   "source": [
    "vectorize.split_input_target(list(\"Tensorflow\"))"
   ]
  },
  {
   "cell_type": "markdown",
   "metadata": {
    "id": "MJdfPmdqzf-R"
   },
   "source": [
    "### Create training batches\n",
    "\n",
    "You used `tf.data` to split the text into manageable sequences. But before feeding this data into the model, you need to shuffle the data and pack it into batches."
   ]
  },
  {
   "cell_type": "markdown",
   "metadata": {
    "id": "r6oUuElIMgVx"
   },
   "source": [
    "## Build The Model"
   ]
  },
  {
   "cell_type": "markdown",
   "metadata": {
    "id": "m8gPwEjRzf-Z"
   },
   "source": [
    "This section defines the model as a `keras.Model` subclass (For details see [Making new Layers and Models via subclassing](https://www.tensorflow.org/guide/keras/custom_layers_and_models)). \n",
    "\n",
    "This model has three layers:\n",
    "\n",
    "* `tf.keras.layers.Embedding`: The input layer. A trainable lookup table that will map each character-ID to a vector with `embedding_dim` dimensions;\n",
    "* `tf.keras.layers.GRU`: A type of RNN with size `units=rnn_units` (You can also use an LSTM layer here.)\n",
    "* `tf.keras.layers.Dense`: The output layer, with `vocab_size` outputs. It outputs one logit for each character in the vocabulary. These are the log-likelihood of each character according to the model."
   ]
  },
  {
   "cell_type": "code",
   "execution_count": 13,
   "metadata": {
    "execution": {
     "iopub.execute_input": "2021-06-16T15:23:12.044401Z",
     "iopub.status.busy": "2021-06-16T15:23:12.043777Z",
     "iopub.status.idle": "2021-06-16T15:23:12.045488Z",
     "shell.execute_reply": "2021-06-16T15:23:12.045828Z"
    },
    "id": "zHT8cLh7EAsg"
   },
   "outputs": [],
   "source": [
    "# Length of the vocabulary in chars\n",
    "# vocab_size = len(vocab)\n",
    "\n",
    "# The embedding dimension\n",
    "embedding_dim = 256\n",
    "\n",
    "# Number of RNN units\n",
    "rnn_units = [1024, 768]"
   ]
  },
  {
   "cell_type": "code",
   "execution_count": 14,
   "metadata": {
    "execution": {
     "iopub.execute_input": "2021-06-16T15:23:12.057187Z",
     "iopub.status.busy": "2021-06-16T15:23:12.056553Z",
     "iopub.status.idle": "2021-06-16T15:23:12.066178Z",
     "shell.execute_reply": "2021-06-16T15:23:12.065730Z"
    },
    "id": "IX58Xj9z47Aw"
   },
   "outputs": [],
   "source": [
    "model = seq_model.SeqModel(vocab,\n",
    "        embedding_dim=embedding_dim,\n",
    "        rnn_units=rnn_units)"
   ]
  },
  {
   "cell_type": "markdown",
   "metadata": {
    "id": "RkA5upJIJ7W7"
   },
   "source": [
    "For each character the model looks up the embedding, runs the GRU one timestep with the embedding as input, and applies the dense layer to generate logits predicting the log-likelihood of the next character:\n",
    "\n",
    "![A drawing of the data passing through the model](images/text_generation_training.png)"
   ]
  },
  {
   "cell_type": "markdown",
   "metadata": {
    "id": "gKbfm04amhXk"
   },
   "source": [
    "Note: For training you could use a `keras.Sequential` model here. To  generate text later you'll need to manage the RNN's internal state. It's simpler to include the state input and output options upfront, than it is to rearrange the model architecture later. For more details see the [Keras RNN guide](https://www.tensorflow.org/guide/keras/rnn#rnn_state_reuse)."
   ]
  },
  {
   "cell_type": "markdown",
   "metadata": {
    "id": "-ubPo0_9Prjb"
   },
   "source": [
    "## Try the model\n",
    "\n",
    "Now run the model to see that it behaves as expected.\n",
    "\n",
    "First check the shape of the output:"
   ]
  },
  {
   "cell_type": "code",
   "execution_count": 15,
   "metadata": {
    "execution": {
     "iopub.execute_input": "2021-06-16T15:23:12.070191Z",
     "iopub.status.busy": "2021-06-16T15:23:12.069612Z",
     "iopub.status.idle": "2021-06-16T15:23:14.644916Z",
     "shell.execute_reply": "2021-06-16T15:23:14.645260Z"
    },
    "id": "C-_70kKAPrPU"
   },
   "outputs": [
    {
     "name": "stdout",
     "output_type": "stream",
     "text": [
      "(64, 100, 79) # (batch_size, sequence_length, vocab_size)\n"
     ]
    }
   ],
   "source": [
    "for input_example_batch, target_example_batch in ds.dataset.take(1):\n",
    "    example_batch_predictions = model(input_example_batch)\n",
    "    print(example_batch_predictions.shape, \"# (batch_size, sequence_length, vocab_size)\")"
   ]
  },
  {
   "cell_type": "markdown",
   "metadata": {
    "id": "Q6NzLBi4VM4o"
   },
   "source": [
    "In the above example the sequence length of the input is `100` but the model can be run on inputs of any length:"
   ]
  },
  {
   "cell_type": "code",
   "execution_count": 16,
   "metadata": {
    "execution": {
     "iopub.execute_input": "2021-06-16T15:23:14.649909Z",
     "iopub.status.busy": "2021-06-16T15:23:14.649350Z",
     "iopub.status.idle": "2021-06-16T15:23:14.652204Z",
     "shell.execute_reply": "2021-06-16T15:23:14.652543Z"
    },
    "id": "vPGmAAXmVLGC"
   },
   "outputs": [
    {
     "name": "stdout",
     "output_type": "stream",
     "text": [
      "Model: \"seq_model\"\n",
      "_________________________________________________________________\n",
      "Layer (type)                 Output Shape              Param #   \n",
      "=================================================================\n",
      "embedding (Embedding)        multiple                  20224     \n",
      "_________________________________________________________________\n",
      "gru (GRU)                    multiple                  3938304   \n",
      "_________________________________________________________________\n",
      "gru_1 (GRU)                  multiple                  4133376   \n",
      "_________________________________________________________________\n",
      "dense (Dense)                multiple                  60751     \n",
      "=================================================================\n",
      "Total params: 8,152,655\n",
      "Trainable params: 8,152,655\n",
      "Non-trainable params: 0\n",
      "_________________________________________________________________\n"
     ]
    }
   ],
   "source": [
    "model.summary()"
   ]
  },
  {
   "cell_type": "markdown",
   "metadata": {
    "id": "uwv0gEkURfx1"
   },
   "source": [
    "To get actual predictions from the model you need to sample from the output distribution, to get actual character indices. This distribution is defined by the logits over the character vocabulary.\n",
    "\n",
    "Note: It is important to _sample_ from this distribution as taking the _argmax_ of the distribution can easily get the model stuck in a loop.\n",
    "\n",
    "Try it for the first example in the batch:"
   ]
  },
  {
   "cell_type": "code",
   "execution_count": 17,
   "metadata": {
    "execution": {
     "iopub.execute_input": "2021-06-16T15:23:14.656316Z",
     "iopub.status.busy": "2021-06-16T15:23:14.655704Z",
     "iopub.status.idle": "2021-06-16T15:23:14.658423Z",
     "shell.execute_reply": "2021-06-16T15:23:14.658814Z"
    },
    "id": "4V4MfFg0RQJg"
   },
   "outputs": [],
   "source": [
    "sampled_indices = tf.random.categorical(example_batch_predictions[0], num_samples=1)\n",
    "sampled_indices = tf.squeeze(sampled_indices, axis=-1).numpy()"
   ]
  },
  {
   "cell_type": "markdown",
   "metadata": {
    "id": "QM1Vbxs_URw5"
   },
   "source": [
    "This gives us, at each timestep, a prediction of the next character index:"
   ]
  },
  {
   "cell_type": "code",
   "execution_count": 18,
   "metadata": {
    "execution": {
     "iopub.execute_input": "2021-06-16T15:23:14.662823Z",
     "iopub.status.busy": "2021-06-16T15:23:14.662207Z",
     "iopub.status.idle": "2021-06-16T15:23:14.664468Z",
     "shell.execute_reply": "2021-06-16T15:23:14.664796Z"
    },
    "id": "YqFMUQc_UFgM"
   },
   "outputs": [
    {
     "data": {
      "text/plain": [
       "array([12, 59, 19, 22, 42, 46, 32, 62, 69, 30, 23, 14, 33, 65, 66, 62,  5,\n",
       "       29, 25,  5, 36, 36, 78, 59, 28, 29, 73, 30, 59, 77, 59, 46, 38, 21,\n",
       "       41, 66, 34, 77, 77, 46, 57, 16, 46, 66, 11,  8, 19, 69, 74,  5, 75,\n",
       "       43, 69, 73, 38, 32,  9, 35, 13, 22, 40,  5, 70, 55,  0, 39, 19, 78,\n",
       "       31, 22, 18, 12, 26, 52, 51, 39, 27, 35, 39, 58, 21, 38, 52, 56, 18,\n",
       "       77, 20,  4, 35, 72, 29, 63, 44, 70, 66, 70, 32, 25, 23, 77],\n",
       "      dtype=int64)"
      ]
     },
     "execution_count": 18,
     "metadata": {},
     "output_type": "execute_result"
    }
   ],
   "source": [
    "sampled_indices"
   ]
  },
  {
   "cell_type": "markdown",
   "metadata": {
    "id": "LfLtsP3mUhCG"
   },
   "source": [
    "Decode these to see the text predicted by this untrained model:"
   ]
  },
  {
   "cell_type": "code",
   "execution_count": 19,
   "metadata": {
    "execution": {
     "iopub.execute_input": "2021-06-16T15:23:14.668624Z",
     "iopub.status.busy": "2021-06-16T15:23:14.668019Z",
     "iopub.status.idle": "2021-06-16T15:23:14.672269Z",
     "shell.execute_reply": "2021-06-16T15:23:14.672602Z"
    },
    "id": "xWcFwPwLSo05"
   },
   "outputs": [
    {
     "name": "stdout",
     "output_type": "stream",
     "text": [
      "Input:\n",
      " ['Bwagi                                                                                               ']\n",
      "\n",
      "Next Char Predictions:\n",
      " [\"3oADXbNryLE6Ouvr,KG,RRīoJKéLoāobTCWvPāābm8bv2/Ayí,óYyéTN0Q5DV,zk[UNK]UAīMD?3HhgUIQUnCThl?āB'QáKsZzvzNGEā\"]\n"
     ]
    }
   ],
   "source": [
    "print(\"Input:\\n\", ds.text_from_ids(np.array([input_example_batch[0]])))\n",
    "print()\n",
    "print(\"Next Char Predictions:\\n\", ds.text_from_ids(np.array([sampled_indices])))"
   ]
  },
  {
   "cell_type": "markdown",
   "metadata": {
    "id": "LJL0Q0YPY6Ee"
   },
   "source": [
    "## Train the model"
   ]
  },
  {
   "cell_type": "markdown",
   "metadata": {
    "id": "YCbHQHiaa4Ic"
   },
   "source": [
    "At this point the problem can be treated as a standard classification problem. Given the previous RNN state, and the input this time step, predict the class of the next character."
   ]
  },
  {
   "cell_type": "markdown",
   "metadata": {
    "id": "trpqTWyvk0nr"
   },
   "source": [
    "### Attach an optimizer, and a loss function"
   ]
  },
  {
   "cell_type": "markdown",
   "metadata": {
    "id": "UAjbjY03eiQ4"
   },
   "source": [
    "The standard `tf.keras.losses.sparse_categorical_crossentropy` loss function works in this case because it is applied across the last dimension of the predictions.\n",
    "\n",
    "Because your model returns logits, you need to set the `from_logits` flag.\n"
   ]
  },
  {
   "cell_type": "code",
   "execution_count": 20,
   "metadata": {
    "execution": {
     "iopub.execute_input": "2021-06-16T15:23:14.681665Z",
     "iopub.status.busy": "2021-06-16T15:23:14.681125Z",
     "iopub.status.idle": "2021-06-16T15:23:14.687262Z",
     "shell.execute_reply": "2021-06-16T15:23:14.686833Z"
    },
    "id": "4HrXTACTdzY-"
   },
   "outputs": [
    {
     "name": "stdout",
     "output_type": "stream",
     "text": [
      "Prediction shape:  (64, 100, 79)  # (batch_size, sequence_length, vocab_size)\n",
      "Mean loss:         4.371028\n"
     ]
    }
   ],
   "source": [
    "example_batch_loss = model.loss(target_example_batch, example_batch_predictions)\n",
    "mean_loss = example_batch_loss.numpy().mean()\n",
    "print(\"Prediction shape: \", example_batch_predictions.shape, \" # (batch_size, sequence_length, vocab_size)\")\n",
    "print(\"Mean loss:        \", mean_loss)"
   ]
  },
  {
   "cell_type": "markdown",
   "metadata": {
    "id": "vkvUIneTFiow"
   },
   "source": [
    "A newly initialized model shouldn't be too sure of itself, the output logits should all have similar magnitudes. To confirm this you can check that the exponential of the mean loss is approximately equal to the vocabulary size. A much higher loss means the model is sure of its wrong answers, and is badly initialized:"
   ]
  },
  {
   "cell_type": "code",
   "execution_count": 21,
   "metadata": {
    "execution": {
     "iopub.execute_input": "2021-06-16T15:23:14.690546Z",
     "iopub.status.busy": "2021-06-16T15:23:14.690018Z",
     "iopub.status.idle": "2021-06-16T15:23:14.693545Z",
     "shell.execute_reply": "2021-06-16T15:23:14.693089Z"
    },
    "id": "MAJfS5YoFiHf"
   },
   "outputs": [
    {
     "data": {
      "text/plain": [
       "79.12492"
      ]
     },
     "execution_count": 21,
     "metadata": {},
     "output_type": "execute_result"
    }
   ],
   "source": [
    "tf.exp(mean_loss).numpy()"
   ]
  },
  {
   "cell_type": "markdown",
   "metadata": {
    "id": "jeOXriLcymww"
   },
   "source": [
    "Configure the training procedure using the `tf.keras.Model.compile` method. Use `tf.keras.optimizers.Adam` with default arguments and the loss function."
   ]
  },
  {
   "cell_type": "code",
   "execution_count": 22,
   "metadata": {
    "execution": {
     "iopub.execute_input": "2021-06-16T15:23:14.699890Z",
     "iopub.status.busy": "2021-06-16T15:23:14.699359Z",
     "iopub.status.idle": "2021-06-16T15:23:14.704390Z",
     "shell.execute_reply": "2021-06-16T15:23:14.703935Z"
    },
    "id": "DDl1_Een6rL0"
   },
   "outputs": [],
   "source": [
    "model.compile_model()"
   ]
  },
  {
   "cell_type": "markdown",
   "metadata": {
    "id": "ieSJdchZggUj"
   },
   "source": [
    "### Configure checkpoints"
   ]
  },
  {
   "cell_type": "markdown",
   "metadata": {
    "id": "C6XBUUavgF56"
   },
   "source": [
    "Use a `tf.keras.callbacks.ModelCheckpoint` to ensure that checkpoints are saved during training:"
   ]
  },
  {
   "cell_type": "code",
   "execution_count": 23,
   "metadata": {},
   "outputs": [],
   "source": [
    "chk = check.CheckPoint(\"jrpg_model\")"
   ]
  },
  {
   "cell_type": "markdown",
   "metadata": {
    "id": "3Ky3F_BhgkTW"
   },
   "source": [
    "### Execute the training"
   ]
  },
  {
   "cell_type": "markdown",
   "metadata": {
    "id": "IxdOA-rgyGvs"
   },
   "source": [
    "To keep training time reasonable, use 10 epochs to train the model. In Colab, set the runtime to GPU for faster training."
   ]
  },
  {
   "cell_type": "code",
   "execution_count": 24,
   "metadata": {
    "execution": {
     "iopub.execute_input": "2021-06-16T15:23:14.712994Z",
     "iopub.status.busy": "2021-06-16T15:23:14.712456Z",
     "iopub.status.idle": "2021-06-16T15:23:14.714281Z",
     "shell.execute_reply": "2021-06-16T15:23:14.714660Z"
    },
    "id": "7yGBE2zxMMHs"
   },
   "outputs": [],
   "source": [
    "EPOCHS = 20"
   ]
  },
  {
   "cell_type": "code",
   "execution_count": 25,
   "metadata": {
    "execution": {
     "iopub.execute_input": "2021-06-16T15:23:14.718215Z",
     "iopub.status.busy": "2021-06-16T15:23:14.717580Z",
     "iopub.status.idle": "2021-06-16T15:25:02.747960Z",
     "shell.execute_reply": "2021-06-16T15:25:02.747311Z"
    },
    "id": "UK-hmKjYVoll",
    "scrolled": false
   },
   "outputs": [
    {
     "name": "stdout",
     "output_type": "stream",
     "text": [
      "Epoch 1/20\n",
      "100/100 [==============================] - 10s 71ms/step - loss: 0.4953\n",
      "Epoch 2/20\n",
      "100/100 [==============================] - 8s 70ms/step - loss: 0.3468\n",
      "Epoch 3/20\n",
      "100/100 [==============================] - 7s 71ms/step - loss: 0.3069\n",
      "Epoch 4/20\n",
      "100/100 [==============================] - 8s 71ms/step - loss: 0.2850\n",
      "Epoch 5/20\n",
      "100/100 [==============================] - 7s 71ms/step - loss: 0.2859\n",
      "Epoch 6/20\n",
      "100/100 [==============================] - 8s 72ms/step - loss: 0.2760\n",
      "Epoch 7/20\n",
      "100/100 [==============================] - 8s 72ms/step - loss: 0.2722\n",
      "Epoch 8/20\n",
      "100/100 [==============================] - 8s 72ms/step - loss: 0.2726\n",
      "Epoch 9/20\n",
      "100/100 [==============================] - 8s 73ms/step - loss: 0.2676\n",
      "Epoch 10/20\n",
      "100/100 [==============================] - 8s 77ms/step - loss: 0.2643\n",
      "Epoch 11/20\n",
      "100/100 [==============================] - 8s 72ms/step - loss: 0.2572\n",
      "Epoch 12/20\n",
      "100/100 [==============================] - 8s 72ms/step - loss: 0.2487\n",
      "Epoch 13/20\n",
      "100/100 [==============================] - 8s 73ms/step - loss: 0.2493\n",
      "Epoch 14/20\n",
      "100/100 [==============================] - 8s 76ms/step - loss: 0.2264\n",
      "Epoch 15/20\n",
      "100/100 [==============================] - 8s 77ms/step - loss: 0.2255\n",
      "Epoch 16/20\n",
      "100/100 [==============================] - 11s 103ms/step - loss: 0.2032\n",
      "Epoch 17/20\n",
      "100/100 [==============================] - 9s 85ms/step - loss: 0.2075\n",
      "Epoch 18/20\n",
      "100/100 [==============================] - 9s 82ms/step - loss: 0.1836\n",
      "Epoch 19/20\n",
      "100/100 [==============================] - 9s 82ms/step - loss: 0.1618\n",
      "Epoch 20/20\n",
      "100/100 [==============================] - 9s 81ms/step - loss: 0.1468\n"
     ]
    }
   ],
   "source": [
    "history = model.fit_with_chk(ds, checkpoint=chk, epochs=EPOCHS)"
   ]
  },
  {
   "cell_type": "code",
   "execution_count": 26,
   "metadata": {
    "execution": {
     "iopub.execute_input": "2021-06-16T15:25:02.761943Z",
     "iopub.status.busy": "2021-06-16T15:25:02.761350Z",
     "iopub.status.idle": "2021-06-16T15:25:02.767592Z",
     "shell.execute_reply": "2021-06-16T15:25:02.767096Z"
    },
    "id": "fqMOuDutnOxK"
   },
   "outputs": [],
   "source": [
    "one_step_model = seq_model.OneStep(model)"
   ]
  },
  {
   "cell_type": "code",
   "execution_count": 27,
   "metadata": {
    "execution": {
     "iopub.execute_input": "2021-06-16T15:25:07.142739Z",
     "iopub.status.busy": "2021-06-16T15:25:07.142196Z",
     "iopub.status.idle": "2021-06-16T15:25:13.133633Z",
     "shell.execute_reply": "2021-06-16T15:25:13.133109Z"
    },
    "id": "3Grk32H_CzsC"
   },
   "outputs": [],
   "source": [
    "chk.save(model)"
   ]
  },
  {
   "cell_type": "code",
   "execution_count": 28,
   "metadata": {},
   "outputs": [],
   "source": [
    "def generate_names(stem=\"\", n=1):\n",
    "    names = []\n",
    "    for _ in range(n):\n",
    "        states = None\n",
    "        next_char = [stem + ch for ch in \"QWERTYUIOPASDFGHJKLZXCVBNM\"]\n",
    "        next_char = tf.constant(next_char)\n",
    "        result = [next_char]\n",
    "\n",
    "        for n in range(40):\n",
    "          next_char, states = one_step_model.generate_one_step(next_char, states=states)\n",
    "          result.append(next_char)\n",
    "\n",
    "        result = tf.strings.join(result)\n",
    "        names += [\" \".join([a.strip() for a in name.decode(\"utf-8\").split() if len(a)]) for name in result.numpy()]\n",
    "    return names"
   ]
  },
  {
   "cell_type": "code",
   "execution_count": 29,
   "metadata": {
    "scrolled": true
   },
   "outputs": [
    {
     "data": {
      "text/plain": [
       "['Quinnust falrryn',\n",
       " 'Welch Vineyard',\n",
       " \"E'Gahamemicc\",\n",
       " 'Rara Sith',\n",
       " 'Titani',\n",
       " 'Yo2Rk',\n",
       " 'Ultin',\n",
       " 'Irscla',\n",
       " 'Owwer',\n",
       " 'Pupe',\n",
       " 'Ashor',\n",
       " 'Spirit of the',\n",
       " 'Dordea',\n",
       " 'Furyyn Chack',\n",
       " 'Great Fairyon',\n",
       " 'Hesten',\n",
       " 'Juke',\n",
       " 'Kelom',\n",
       " 'Lucha',\n",
       " 'Zopp-Solk-',\n",
       " 'Xed',\n",
       " 'Cocoto',\n",
       " 'Vaniel apparan',\n",
       " 'Balther',\n",
       " 'Nagi Naka',\n",
       " 'Momino',\n",
       " 'Quennart',\n",
       " 'Winry Mideller',\n",
       " 'Edgoror IXenorce',\n",
       " 'Ruddle Crispin',\n",
       " 'Tats',\n",
       " 'Yukino Shiephe',\n",
       " 'Ulbe',\n",
       " 'Isoda Aurumbr',\n",
       " \"O'ako Yama\",\n",
       " 'Puffy',\n",
       " 'Algee Rorba',\n",
       " 'Santa',\n",
       " 'Dornee S.S. Tester',\n",
       " 'Fenrut',\n",
       " 'Gomper',\n",
       " 'Hartwrah',\n",
       " 'Joron',\n",
       " \"K'rhid Tia\",\n",
       " 'Lilt Sama',\n",
       " 'Zake',\n",
       " 'Xook midi',\n",
       " 'Cid Ornilis',\n",
       " 'Vither',\n",
       " 'Bugube Gente',\n",
       " 'Nackyus Lemuin',\n",
       " 'Medelich',\n",
       " 'Quan',\n",
       " 'Welwan',\n",
       " 'Ellart',\n",
       " 'Runa',\n",
       " 'Torbenk Baye',\n",
       " 'Yyus Leanced',\n",
       " 'Ul Uldard',\n",
       " 'Iskariaet',\n",
       " 'Osman',\n",
       " 'Prometa',\n",
       " 'Asura',\n",
       " 'Spiriton',\n",
       " 'Dr. Kodek',\n",
       " 'Furche',\n",
       " 'Gadó',\n",
       " 'Han',\n",
       " 'Jack Heat',\n",
       " \"Kirva's dreimer\",\n",
       " 'Laura',\n",
       " \"Zekko's\",\n",
       " 'Xeus',\n",
       " 'Cassai',\n",
       " 'Velari',\n",
       " 'Bosc Knon',\n",
       " 'Nillim',\n",
       " 'Mratiss',\n",
       " 'Queen of thentrass',\n",
       " 'Wiac',\n",
       " 'Elira Vyrvenard',\n",
       " 'Reagar',\n",
       " 'Tonte',\n",
       " 'Yuzin',\n",
       " 'Ulue',\n",
       " 'Ironu Sinveyt',\n",
       " 'Olvailler',\n",
       " 'Puffy',\n",
       " 'Adrayda',\n",
       " 'Sha Beward',\n",
       " 'Dalvan',\n",
       " 'Fraghry',\n",
       " 'Gully',\n",
       " 'Hevdreeth',\n",
       " 'Jacte Swow',\n",
       " 'Kecko',\n",
       " 'Legut',\n",
       " 'Zinn',\n",
       " 'Xedor',\n",
       " 'Cir Fabool VI I',\n",
       " 'Vimba Daif',\n",
       " 'Bamba-Var',\n",
       " 'Nola',\n",
       " 'Musian',\n",
       " 'Quina Quen',\n",
       " 'Wittcomb',\n",
       " 'Ephilia',\n",
       " 'Raselle Walda',\n",
       " 'Tai Huy',\n",
       " 'Yursel',\n",
       " 'Ullad',\n",
       " 'Itania',\n",
       " 'Oppira',\n",
       " 'Phin Madele',\n",
       " 'Anneya',\n",
       " 'Sazsur',\n",
       " 'Dulban',\n",
       " 'Fusay',\n",
       " 'Gorgunom',\n",
       " \"Ha'mah\",\n",
       " 'Jern',\n",
       " 'Kotalo',\n",
       " 'Leithaine wythers',\n",
       " 'Zerand',\n",
       " 'Xarnis',\n",
       " 'Claud',\n",
       " 'Veldina',\n",
       " 'Bilsom',\n",
       " 'Noya Neh',\n",
       " 'Madame S Sorsise',\n",
       " 'Quina Quen',\n",
       " 'Welch Vineyard',\n",
       " 'Ehll Tous Brein of Shiessa',\n",
       " 'Ruku Shingaje',\n",
       " 'Tena',\n",
       " 'Yowry Le. Luguca',\n",
       " 'Unrith-Batter',\n",
       " 'Irscla',\n",
       " 'Oreas',\n",
       " 'Pani',\n",
       " 'Alma YeaFlo',\n",
       " 'Shirna',\n",
       " 'Dquenna Tree',\n",
       " 'Frailav',\n",
       " 'Gubiel',\n",
       " 'Hynne',\n",
       " 'Jenoke',\n",
       " 'Khipih',\n",
       " 'Lutam Seep',\n",
       " 'Zornan',\n",
       " \"Xeld Traen d'Orag\",\n",
       " 'Cid',\n",
       " 'Vezu',\n",
       " 'Bardyn',\n",
       " \"Nero No'eah\",\n",
       " 'Momari',\n",
       " 'Quad Nukk',\n",
       " 'Waldan',\n",
       " 'Eston',\n",
       " \"Raych'tern\",\n",
       " 'Tidus',\n",
       " 'Yoballe Sidys',\n",
       " 'Ulia',\n",
       " 'Iphilos',\n",
       " \"O'tchapha\",\n",
       " 'Pyrim',\n",
       " 'Azavi',\n",
       " 'Sina',\n",
       " 'Dawilly',\n",
       " 'Fray',\n",
       " 'Genner',\n",
       " 'Harden',\n",
       " 'Jile',\n",
       " \"King's ghince\",\n",
       " 'Lucrecia Argentuq',\n",
       " 'Ziman Zalron',\n",
       " 'Xippatu',\n",
       " \"Cid Ma'\",\n",
       " 'Vogba',\n",
       " 'Broj',\n",
       " 'Noger',\n",
       " 'Mekavake',\n",
       " 'Queen',\n",
       " 'Wefch Vineyard',\n",
       " 'Estick',\n",
       " 'Razalfus',\n",
       " \"Tiro's Mother\",\n",
       " 'Yephenel',\n",
       " 'Ulbert',\n",
       " 'Invich',\n",
       " 'O-Noha',\n",
       " 'Prince',\n",
       " 'Anch',\n",
       " 'Sat Savet',\n",
       " 'Daeh gaz',\n",
       " 'Flurd Fish',\n",
       " 'Guardian Girnton',\n",
       " 'Haurchentont',\n",
       " 'John',\n",
       " 'Karlo',\n",
       " 'Lukee',\n",
       " 'Zonamai',\n",
       " 'Xaviel',\n",
       " 'Ccot',\n",
       " 'Vasa Kuya',\n",
       " 'Bronmald',\n",
       " \"Nav'itani Oulimir\",\n",
       " 'Mahice Clandort Ownne de Haillenarte',\n",
       " 'Queen of Carden',\n",
       " 'Wulfura Heith',\n",
       " 'Eglemors',\n",
       " 'Reek',\n",
       " 'Tomimrur',\n",
       " 'Yujy Gah',\n",
       " 'Ulina',\n",
       " 'Igash',\n",
       " 'Oshun',\n",
       " 'Punt',\n",
       " 'Aukomia',\n",
       " 'Swohd-Gibbl wynd',\n",
       " 'Dr. Luge',\n",
       " 'Furion',\n",
       " 'Girm',\n",
       " 'Helgre',\n",
       " 'Joelle',\n",
       " 'Khuran',\n",
       " 'Lucina',\n",
       " 'Zaly',\n",
       " 'Xonce',\n",
       " 'Captain',\n",
       " 'Valun',\n",
       " 'Beegrel dy Farre',\n",
       " 'Nene',\n",
       " 'Mivi Brinaith',\n",
       " 'Quan',\n",
       " 'Windi',\n",
       " 'Ellen T. Trvysch',\n",
       " 'Rhedo',\n",
       " 'Tika-Banhe',\n",
       " 'Yanst',\n",
       " 'Uta U',\n",
       " 'Igrian Por Selino',\n",
       " 'Oregan',\n",
       " 'Pr. Vigeerd',\n",
       " 'Arch',\n",
       " 'Spuro',\n",
       " 'Deju Roomi',\n",
       " 'Frarile',\n",
       " 'Great Mycha',\n",
       " 'Hitta',\n",
       " 'Jile Ware',\n",
       " 'Kinover Blagke',\n",
       " 'Lilisatte',\n",
       " 'Zhaebo By Nonaa',\n",
       " 'Xons',\n",
       " 'Calparn on Tirt',\n",
       " 'Verlaus',\n",
       " 'Bior Dannerd Blequt',\n",
       " 'Nabriale',\n",
       " 'Marty']"
      ]
     },
     "execution_count": 29,
     "metadata": {},
     "output_type": "execute_result"
    }
   ],
   "source": [
    "generate_names(n=10)"
   ]
  },
  {
   "cell_type": "code",
   "execution_count": 30,
   "metadata": {
    "scrolled": true
   },
   "outputs": [
    {
     "data": {
      "text/plain": [
       "['Joby of Queen on Soldier',\n",
       " 'Joby of Widees',\n",
       " 'Joby of Esthen',\n",
       " 'Joby of ResLeld',\n",
       " 'Joby of Tingewss',\n",
       " 'Joby of Yee',\n",
       " 'Joby of Underlow Pronsol Fontes',\n",
       " 'Joby of Ikt',\n",
       " 'Joby of Oben',\n",
       " 'Joby of Pid Flate',\n",
       " 'Joby of Azbel',\n",
       " 'Joby of Seller',\n",
       " 'Joby of Dilns and Flo',\n",
       " 'Joby of Finisblly',\n",
       " 'Joby of Ginds ote',\n",
       " 'Joby of Hewlin',\n",
       " 'Joby of Junsiblang',\n",
       " 'Joby of Kind',\n",
       " 'Joby of Linchs',\n",
       " 'Joby of Zeeq',\n",
       " 'Joby of Xol Borls',\n",
       " 'Joby of Cornelia',\n",
       " 'Joby of Vestenna',\n",
       " 'Joby of Bebld',\n",
       " 'Joby of Neus and Foor',\n",
       " 'Joby of Migus',\n",
       " 'Joby of Qeeber',\n",
       " 'Joby of Windsagen',\n",
       " 'Joby of Eblent',\n",
       " 'Joby of Robel',\n",
       " 'Joby of Telld Ferole',\n",
       " 'Joby of Ye Tildersan',\n",
       " 'Joby of Ui',\n",
       " 'Joby of Inchors',\n",
       " 'Joby of Oote',\n",
       " 'Joby of Pille',\n",
       " 'Joby of Abbono',\n",
       " 'Joby of Simigo',\n",
       " 'Joby of Delle',\n",
       " 'Joby of Fores',\n",
       " 'Joby of Geller',\n",
       " 'Joby of Hinder',\n",
       " 'Joby of Jors',\n",
       " 'Joby of Kisher',\n",
       " 'Joby of Link',\n",
       " 'Joby of Zelde',\n",
       " 'Joby of XnM Mirgge',\n",
       " 'Joby of Cornel',\n",
       " 'Joby of Vildirgan',\n",
       " 'Joby of Bebbld',\n",
       " 'Joby of Nebr',\n",
       " 'Joby of Meist',\n",
       " 'Joby of Qeen',\n",
       " 'Joby of Wubps',\n",
       " 'Joby of Eblen',\n",
       " 'Joby of Reldos',\n",
       " 'Joby of Towles',\n",
       " 'Joby of Yen Forrest Sipina',\n",
       " 'Joby of Ukon',\n",
       " 'Joby of Iat',\n",
       " 'Joby of Oude',\n",
       " 'Joby of Piltzus',\n",
       " 'Joby of Ablaug Old Fale',\n",
       " 'Joby of Scrotor',\n",
       " 'Joby of Deep',\n",
       " 'Joby of Forress',\n",
       " 'Joby of Gindgutts',\n",
       " 'Joby of Huther',\n",
       " 'Joby of Jev',\n",
       " 'Joby of Kinqe',\n",
       " 'Joby of Leveilleur',\n",
       " 'Joby of Zelders',\n",
       " 'Joby of Xeo',\n",
       " 'Joby of Cornelia',\n",
       " 'Joby of Ves',\n",
       " 'Joby of Borgles',\n",
       " 'Joby of Neil',\n",
       " 'Joby of Misken',\n",
       " 'Joby of Queen of Eblan',\n",
       " 'Joby of Wildsun',\n",
       " 'Joby of Elle',\n",
       " 'Joby of Rious',\n",
       " 'Joby of Torellol',\n",
       " 'Joby of YenFurgin',\n",
       " 'Joby of Ubila',\n",
       " 'Joby of Ite',\n",
       " 'Joby of Ogus',\n",
       " 'Joby of Piltze',\n",
       " 'Joby of Abergi',\n",
       " 'Joby of Swoule',\n",
       " 'Joby of Deldon',\n",
       " 'Joby of Fiores',\n",
       " 'Joby of Gurde-Fold',\n",
       " 'Joby of Hyrule',\n",
       " 'Joby of Julle',\n",
       " 'Joby of Kel fall',\n",
       " 'Joby of Leiss',\n",
       " 'Joby of Zeeper',\n",
       " 'Joby of Xe',\n",
       " 'Joby of Cornelie',\n",
       " 'Joby of Vinet',\n",
       " 'Joby of Bee',\n",
       " 'Joby of Nesse',\n",
       " 'Joby of Menti',\n",
       " 'Joby of Queen',\n",
       " 'Joby of Worden',\n",
       " 'Joby of Ebbal',\n",
       " 'Joby of Ronsbolos',\n",
       " 'Joby of Teller',\n",
       " 'Joby of Yaze',\n",
       " 'Joby of Uilet',\n",
       " 'Joby of Iz',\n",
       " 'Joby of Oelle',\n",
       " 'Joby of Pig',\n",
       " 'Joby of Abban',\n",
       " 'Joby of Seller',\n",
       " 'Joby of Dellure',\n",
       " 'Joby of Five',\n",
       " 'Joby of Gionts',\n",
       " 'Joby of Herrion',\n",
       " 'Joby of Julless',\n",
       " 'Joby of Kenne',\n",
       " 'Joby of Lincess',\n",
       " 'Joby of Zolda',\n",
       " 'Joby of Xe Gorol',\n",
       " 'Joby of Cornelia',\n",
       " 'Joby of Vex',\n",
       " 'Joby of Beess',\n",
       " 'Joby of Nek Mux',\n",
       " 'Joby of Mildalest Be Builderss Old Man',\n",
       " 'Joby of Quen',\n",
       " 'Joby of Wyrlus',\n",
       " 'Joby of Ebmenia',\n",
       " 'Joby of Relon',\n",
       " 'Joby of Tillew',\n",
       " 'Joby of Yorg',\n",
       " 'Joby of Uurver',\n",
       " 'Joby of Iack',\n",
       " 'Joby of Oblen',\n",
       " 'Joby of Plous',\n",
       " 'Joby of Abla',\n",
       " 'Joby of Sisters',\n",
       " 'Joby of Dunten',\n",
       " 'Joby of Firtesse',\n",
       " 'Joby of Gord',\n",
       " 'Joby of Heurain',\n",
       " 'Joby of Juscilla',\n",
       " 'Joby of Kolle',\n",
       " 'Joby of Link',\n",
       " 'Joby of Zeege',\n",
       " 'Joby of Xel Esina',\n",
       " 'Joby of Cornelia',\n",
       " 'Joby of Vestor',\n",
       " 'Joby of Burlwers',\n",
       " 'Joby of Neiszer',\n",
       " 'Joby of Mentoun',\n",
       " 'Joby of Qeonn I',\n",
       " 'Joby of Worde',\n",
       " 'Joby of Ebiri',\n",
       " 'Joby of Redenses',\n",
       " 'Joby of Tros',\n",
       " 'Joby of Yen',\n",
       " 'Joby of Uilleror',\n",
       " 'Joby of Ieltost',\n",
       " 'Joby of Oukber',\n",
       " 'Joby of Pepili',\n",
       " 'Joby of Asthelm',\n",
       " 'Joby of Solder',\n",
       " 'Joby of Dinner',\n",
       " 'Joby of Foine',\n",
       " 'Joby of Gorden',\n",
       " 'Joby of Huat',\n",
       " 'Joby of Julles',\n",
       " 'Joby of Keep',\n",
       " 'Joby of Link',\n",
       " 'Joby of Zeeper',\n",
       " 'Joby of Xen',\n",
       " 'Joby of Cinng',\n",
       " 'Joby of Vipturi',\n",
       " 'Joby of Bisht',\n",
       " 'Joby of Nea',\n",
       " 'Joby of Millier',\n",
       " 'Joby of Qeen',\n",
       " 'Joby of Weide',\n",
       " 'Joby of Eelwor',\n",
       " 'Joby of Richsse',\n",
       " 'Joby of Telrer',\n",
       " 'Joby of Yaiden',\n",
       " 'Joby of Uwingo',\n",
       " 'Joby of Iboro',\n",
       " 'Joby of Obina',\n",
       " 'Joby of Pitemine',\n",
       " 'Joby of Auburn',\n",
       " 'Joby of Swold Bwour',\n",
       " 'Joby of Delver',\n",
       " 'Joby of Fabule',\n",
       " 'Joby of Ginders',\n",
       " 'Joby of Heird',\n",
       " 'Joby of Jisne',\n",
       " 'Joby of Kelder',\n",
       " 'Joby of Light',\n",
       " 'Joby of Zeenel',\n",
       " 'Joby of Xe',\n",
       " 'Joby of Chide Goure',\n",
       " 'Joby of Velleq',\n",
       " 'Joby of Bourh',\n",
       " 'Joby of Nebnsing',\n",
       " 'Joby of Mikher',\n",
       " 'Joby of Queno',\n",
       " 'Joby of Weves',\n",
       " 'Joby of Elldein',\n",
       " 'Joby of Reet',\n",
       " 'Joby of Telwer',\n",
       " 'Joby of Yelen',\n",
       " 'Joby of Underling',\n",
       " 'Joby of I Silvestri',\n",
       " 'Joby of Obia',\n",
       " 'Joby of Porten',\n",
       " 'Joby of Auburner',\n",
       " 'Joby of Screrpion',\n",
       " 'Joby of Dinder',\n",
       " 'Joby of Fimher',\n",
       " 'Joby of Gurdo',\n",
       " 'Joby of Heles',\n",
       " 'Joby of Jeine',\n",
       " 'Joby of Kingers',\n",
       " 'Joby of Light',\n",
       " 'Joby of Zelder',\n",
       " 'Joby of X Lour',\n",
       " 'Joby of Cornelius',\n",
       " 'Joby of Velenn',\n",
       " 'Joby of Bartoup',\n",
       " 'Joby of Neire',\n",
       " 'Joby of Miluse',\n",
       " 'Joby of Queen',\n",
       " 'Joby of Wedge',\n",
       " 'Joby of Ecbern',\n",
       " 'Joby of Riwens',\n",
       " 'Joby of Toblen',\n",
       " 'Joby of Yelo',\n",
       " 'Joby of Uukurel',\n",
       " 'Joby of Iaget',\n",
       " 'Joby of Oiler',\n",
       " 'Joby of Pirle',\n",
       " 'Joby of Aulmire',\n",
       " 'Joby of Seller',\n",
       " 'Joby of Deios',\n",
       " 'Joby of Ferlen',\n",
       " 'Joby of Guydo',\n",
       " 'Joby of Heider',\n",
       " 'Joby of Jink',\n",
       " 'Joby of Kises',\n",
       " 'Joby of Luncess',\n",
       " 'Joby of Zelger',\n",
       " 'Joby of Xise',\n",
       " 'Joby of Corneles',\n",
       " 'Joby of Ventrill',\n",
       " 'Joby of Belder',\n",
       " 'Joby of Neagge',\n",
       " 'Joby of Millus']"
      ]
     },
     "execution_count": 30,
     "metadata": {},
     "output_type": "execute_result"
    }
   ],
   "source": [
    "generate_names('Joby of ', n=10)"
   ]
  },
  {
   "cell_type": "code",
   "execution_count": 31,
   "metadata": {
    "scrolled": true
   },
   "outputs": [
    {
     "data": {
      "text/plain": [
       "['Joby the Quen',\n",
       " 'Joby the Wobrien',\n",
       " 'Joby the Eoveim',\n",
       " 'Joby the Reuviller',\n",
       " 'Joby the Tynovos',\n",
       " 'Joby the Yeog',\n",
       " 'Joby the Urohirge',\n",
       " 'Joby the Ie',\n",
       " \"Joby the Ool'koin\",\n",
       " 'Joby the Pey',\n",
       " 'Joby the Arventus',\n",
       " 'Joby the Selegron',\n",
       " 'Joby the Deepblax',\n",
       " 'Joby the Febooth',\n",
       " 'Joby the Gehste',\n",
       " 'Joby the Haiden',\n",
       " 'Joby the Jeussinna',\n",
       " 'Joby the Koev',\n",
       " 'Joby the Leusicinc',\n",
       " 'Joby the Zoter',\n",
       " 'Joby the X-Oovein',\n",
       " 'Joby the Coutper',\n",
       " 'Joby the Vonseake',\n",
       " 'Joby the Bene',\n",
       " 'Joby the Naki',\n",
       " 'Joby the Meidius']"
      ]
     },
     "execution_count": 31,
     "metadata": {},
     "output_type": "execute_result"
    }
   ],
   "source": [
    "generate_names('Joby the ')"
   ]
  },
  {
   "cell_type": "code",
   "execution_count": 32,
   "metadata": {
    "scrolled": true
   },
   "outputs": [
    {
     "name": "stdout",
     "output_type": "stream",
     "text": [
      "Quina of Quen\n",
      "Quina of Wald\n",
      "Quina of Ezbbl\n",
      "Quina of Ranson\n",
      "Quina of Tirt\n",
      "Quina of Yent\n",
      "Quina of Untett Aptrelt\n",
      "Quina of Itters\n",
      "Quina of Obrir\n",
      "Quina of Pint\n",
      "Quina of Azelle\n",
      "Quina of Sprirt\n",
      "Quina of Dartess\n",
      "Quina of Fanter\n",
      "Quina of Garller\n",
      "Quina of Hertlar\n",
      "Quina of Jink\n",
      "Quina of Kira\n",
      "Quina of Leut\n",
      "Quina of Zell\n",
      "Quina of X Quen\n",
      "Quina of Cardus\n",
      "Quina of Van\n",
      "Quina of Burmec\n",
      "Quina of Nelta\n",
      "Quina of Mart\n",
      "Wandenigun of Qeen walds\n",
      "Wandenigun of Wlane\n",
      "Wandenigun of Ellha\n",
      "Wandenigun of Resole\n",
      "Wandenigun of Tewral\n",
      "Wandenigun of Yugian\n",
      "Wandenigun of Ugrello\n",
      "Wandenigun of Igedus\n",
      "Wandenigun of Oldirg Owner\n",
      "Wandenigun of Pengagi and Four\n",
      "Wandenigun of Anguri\n",
      "Wandenigun of Sigglas\n",
      "Wandenigun of Derno\n",
      "Wandenigun of Farel\n",
      "Wandenigun of Granssann\n",
      "Wandenigun of Hinasa\n",
      "Wandenigun of Jecron\n",
      "Wandenigun of Kenny\n",
      "Wandenigun of Lesurage\n",
      "Wandenigun of Zurness Gorl\n",
      "Wandenigun of Xeg\n",
      "Wandenigun of Chotan\n",
      "Wandenigun of Voglo\n",
      "Wandenigun of Bage\n",
      "Wandenigun of Nargess\n",
      "Wandenigun of Man\n",
      "Ezy of Queen\n",
      "Ezy of Wumce\n",
      "Ezy of Ekker\n",
      "Ezy of Rem SulresFroi\n",
      "Ezy of Trom\n",
      "Ezy of Yernall\n",
      "Ezy of Uuger\n",
      "Ezy of Ickras\n",
      "Ezy of Oba\n",
      "Ezy of Pheffall\n",
      "Ezy of Allen Alexandros XVII\n",
      "Ezy of Sage\n",
      "Ezy of Damine\n",
      "Ezy of Fleule\n",
      "Ezy of Gley\n",
      "Ezy of Hyrule\n",
      "Ezy of Julles\n",
      "Ezy of Kempre\n",
      "Ezy of Lack\n",
      "Ezy of Zres\n",
      "Ezy of Xex\n",
      "Ezy of Curil\n",
      "Ezy of Villa\n",
      "Ezy of BlfFord\n",
      "Ezy of Nuck\n",
      "Ezy of Maru\n",
      "Relia of Qeten\n",
      "Relia of Wlate\n",
      "Relia of Eulmore\n",
      "Relia of Rirste\n",
      "Relia of Tintworw\n",
      "Relia of Yen Fansand\n",
      "Relia of Upur\n",
      "Relia of Ilkonj\n",
      "Relia of Ondori\n",
      "Relia of Poulima\n",
      "Relia of Aamu\n",
      "Relia of Scrent\n",
      "Relia of Dinter\n",
      "Relia of Fabul\n",
      "Relia of Gyrus\n",
      "Relia of Hane\n",
      "Relia of Jean\n",
      "Relia of King\n",
      "Relia of Lith\n",
      "Relia of Zorde\n",
      "Relia of XII\n",
      "Relia of Cyrus\n",
      "Relia of Vank\n",
      "Relia of Bare\n",
      "Relia of Nate\n",
      "Relia of Man\n",
      "Takrica of Quren\n",
      "Takrica of Wanversin\n",
      "Takrica of Ekerus\n",
      "Takrica of Rem Fullain\n",
      "Takrica of Trew Four\n",
      "Takrica of Yerwurl\n",
      "Takrica of Urm\n",
      "Takrica of Im\n",
      "Takrica of Ownir\n",
      "Takrica of Pristine\n",
      "Takrica of Astral\n",
      "Takrica of Sinmers\n",
      "Takrica of Delvake\n",
      "Takrica of Ferris e\n",
      "Takrica of Grimmas\n",
      "Takrica of Hyrule\n",
      "Takrica of Juggless\n",
      "Takrica of Kenmyrd\n",
      "Takrica of Leusin\n",
      "Takrica of Zards\n",
      "Takrica of X Porismise\n",
      "Takrica of Cirnss\n",
      "Takrica of Vensing\n",
      "Takrica of Birds\n",
      "Takrica of Nesworl\n",
      "Takrica of Migage\n",
      "Y'shthat of Que Tlase\n",
      "Y'shthat of Wilts\n",
      "Y'shthat of Elle\n",
      "Y'shthat of Rill\n",
      "Y'shthat of Telle\n",
      "Y'shthat of Yah Aluxa\n",
      "Y'shthat of Uft\n",
      "Y'shthat of Il\n",
      "Y'shthat of Old Man Trea\n",
      "Y'shthat of Pyr\n",
      "Y'shthat of Almetin\n",
      "Y'shthat of Stha\n",
      "Y'shthat of Delli\n",
      "Y'shthat of Figh\n",
      "Y'shthat of Gray Tou\n",
      "Y'shthat of Hilla\n",
      "Y'shthat of Jull\n",
      "Y'shthat of Kines\n",
      "Y'shthat of Led\n",
      "Y'shthat of Zurg\n",
      "Y'shthat of XI Tella\n",
      "Y'shthat of Chive\n",
      "Y'shthat of Villaix\n",
      "Y'shthat of Brin\n",
      "Y'shthat of Nell\n",
      "Y'shthat of Millan\n",
      "Unniciag-O-Sennan of Quon\n",
      "Unniciag-O-Sennan of Wyrm\n",
      "Unniciag-O-Sennan of Eyt\n",
      "Unniciag-O-Sennan of Rinak\n",
      "Unniciag-O-Sennan of Tar\n",
      "Unniciag-O-Sennan of Yea\n",
      "Unniciag-O-Sennan of Uppra\n",
      "Unniciag-O-Sennan of Int qoon\n",
      "Unniciag-O-Sennan of Onton\n",
      "Unniciag-O-Sennan of Piena\n",
      "Unniciag-O-Sennan of Astral\n",
      "Unniciag-O-Sennan of Seller\n",
      "Unniciag-O-Sennan of Dannss\n",
      "Unniciag-O-Sennan of Flam\n",
      "Unniciag-O-Sennan of Girns\n",
      "Unniciag-O-Sennan of Hyrus\n",
      "Unniciag-O-Sennan of Juwle\n",
      "Unniciag-O-Sennan of Kinn\n",
      "Unniciag-O-Sennan of Linc\n",
      "Unniciag-O-Sennan of Zerd\n",
      "Unniciag-O-Sennan of Xeler\n",
      "Unniciag-O-Sennan of C. Kenny\n",
      "Unniciag-O-Sennan of Via\n",
      "Unniciag-O-Sennan of Burt\n",
      "Unniciag-O-Sennan of Nabulu\n",
      "Unniciag-O-Sennan of Myria\n",
      "Invisk of Queen of Uttessal\n",
      "Invisk of Wlind\n",
      "Invisk of Eblan\n",
      "Invisk of Raccsen\n",
      "Invisk of Tinner\n",
      "Invisk of Yiges\n",
      "Invisk of Uumr\n",
      "Invisk of Incel\n",
      "Invisk of Ocks\n",
      "Invisk of Piller\n",
      "Invisk of Astral\n",
      "Invisk of Scrarc\n",
      "Invisk of Deman\n",
      "Invisk of Firne\n",
      "Invisk of Gyrla\n",
      "Invisk of Hifah Ma\n",
      "Invisk of Juris\n",
      "Invisk of Kinners\n",
      "Invisk of Link\n",
      "Invisk of Znand de Dailbenat\n",
      "Invisk of XV Eremair\n",
      "Invisk of Cornel\n",
      "Invisk of Vineia\n",
      "Invisk of B'nargin Tilmasca\n",
      "Invisk of Nebl ap Fare\n",
      "Invisk of Mennic\n",
      "Owlam of Q. Manke\n",
      "Owlam of Wiarc\n",
      "Owlam of Elfheim\n",
      "Owlam of Ringce\n",
      "Owlam of Treaul\n",
      "Owlam of Yel Fleasmosh\n",
      "Owlam of Ume\n",
      "Owlam of Incle\n",
      "Owlam of Oich\n",
      "Owlam of Pcren\n",
      "Owlam of Allane\n",
      "Owlam of Saser\n",
      "Owlam of Delvar\n",
      "Owlam of Fuban\n",
      "Owlam of Gindwents\n",
      "Owlam of Han\n",
      "Owlam of Jevan\n",
      "Owlam of Kenny\n",
      "Owlam of Leonce\n",
      "Owlam of Zor\n",
      "Owlam of X Mon\n",
      "Owlam of Calcineis zai\n",
      "Owlam of Val\n",
      "Owlam of Babel\n",
      "Owlam of Negri\n",
      "Owlam of Mark\n",
      "Patiaroja of Qumen\n",
      "Patiaroja of Wlack\n",
      "Patiaroja of Emth\n",
      "Patiaroja of Rupe\n",
      "Patiaroja of Torol\n",
      "Patiaroja of Yougip Biller\n",
      "Patiaroja of Uulver\n",
      "Patiaroja of Icent\n",
      "Patiaroja of Omon\n",
      "Patiaroja of Preaug\n",
      "Patiaroja of Alfen\n",
      "Patiaroja of Sprete\n",
      "Patiaroja of Delis\n",
      "Patiaroja of Flaine\n",
      "Patiaroja of Gieto\n",
      "Patiaroja of Highe\n",
      "Patiaroja of Jaugi\n",
      "Patiaroja of King\n",
      "Patiaroja of Liget\n",
      "Patiaroja of Zerus\n",
      "Patiaroja of X Theimun Houlle\n",
      "Patiaroja of Create\n",
      "Patiaroja of Varume\n",
      "Patiaroja of Bloephas\n",
      "Patiaroja of Nerace\n",
      "Patiaroja of Mistius\n",
      "Alama of Qeelle\n",
      "Alama of Wind\n",
      "Alama of Ebern\n",
      "Alama of Rish\n",
      "Alama of Tiry\n",
      "Alama of Yavi\n",
      "Alama of Ulter\n",
      "Alama of Ia\n",
      "Alama of Okkzard\n",
      "Alama of Parvin\n",
      "Alama of Aptra\n",
      "Alama of Sigen Fa Brear\n",
      "Alama of Dark\n",
      "Alama of Fari\n",
      "Alama of Gards\n",
      "Alama of Havit\n",
      "Alama of Jight\n",
      "Alama of Kians\n",
      "Alama of Land\n",
      "Alama of Zard\n",
      "Alama of X Moulihan\n",
      "Alama of Cirpess Bear\n",
      "Alama of Vario\n",
      "Alama of Byr\n",
      "Alama of Na\n",
      "Alama of Mari\n",
      "Sitinius of Queen\n",
      "Sitinius of Wunte\n",
      "Sitinius of Eulmor\n",
      "Sitinius of Remus\n",
      "Sitinius of Trints\n",
      "Sitinius of Yerus\n",
      "Sitinius of Uu\n",
      "Sitinius of Iurtor\n",
      "Sitinius of Oulumier\n",
      "Sitinius of Phral\n",
      "Sitinius of Aulum\n",
      "Sitinius of Sumvesare\n",
      "Sitinius of Durtemia\n",
      "Sitinius of Fuur\n",
      "Sitinius of Gulle\n",
      "Sitinius of Herm\n",
      "Sitinius of Jugrers\n",
      "Sitinius of Kir\n",
      "Sitinius of Leurs\n",
      "Sitinius of Zlen\n",
      "Sitinius of Xun\n",
      "Sitinius of Clane\n",
      "Sitinius of Vellurus\n",
      "Sitinius of Burmec\n",
      "Sitinius of Neurun\n",
      "Sitinius of Murtor\n",
      "Damos of Quon\n",
      "Damos of Widges\n",
      "Damos of Elfheor\n",
      "Damos of Red\n",
      "Damos of Tros\n",
      "Damos of Yell\n",
      "Damos of Undoros\n",
      "Damos of Inogter\n",
      "Damos of Orne\n",
      "Damos of Peller\n",
      "Damos of Alder\n",
      "Damos of Spirit\n",
      "Damos of Deller\n",
      "Damos of Flan\n",
      "Damos of Geller\n",
      "Damos of Heller\n",
      "Damos of Jelmar\n",
      "Damos of Keldow\n",
      "Damos of Lprim\n",
      "Damos of Zelda\n",
      "Damos of Xen of Farress\n",
      "Damos of Celise\n",
      "Damos of Vugrer\n",
      "Damos of Blinds\n",
      "Damos of Naugan\n",
      "Damos of Man\n",
      "Fairiter of Qeees\n",
      "Fairiter of Wind\n",
      "Fairiter of Eldhen\n",
      "Fairiter of Reus\n",
      "Fairiter of Thougess\n",
      "Fairiter of Yerus\n",
      "Fairiter of Uventroess Pellan\n",
      "Fairiter of Ivol seller\n",
      "Fairiter of Ourher\n",
      "Fairiter of Prese\n",
      "Fairiter of Akella\n",
      "Fairiter of Seles\n",
      "Fairiter of Durmeis\n",
      "Fairiter of Flous\n",
      "Fairiter of Girds\n",
      "Fairiter of Heidel\n",
      "Fairiter of Jerus\n",
      "Fairiter of Keerd\n",
      "Fairiter of Less\n",
      "Fairiter of Zefsen\n",
      "Fairiter of Xer\n",
      "Fairiter of Cardless\n",
      "Fairiter of Venor\n",
      "Fairiter of Buresta\n",
      "Fairiter of Nugac\n",
      "Fairiter of Mirdas\n",
      "Gadotu of Qeon\n",
      "Gadotu of Went\n",
      "Gadotu of Evicio\n",
      "Gadotu of Revei\n",
      "Gadotu of Trandson\n",
      "Gadotu of Yei\n",
      "Gadotu of Urge\n",
      "Gadotu of Im Mai\n",
      "Gadotu of Orviller\n",
      "Gadotu of Prige\n",
      "Gadotu of Albel\n",
      "Gadotu of Scre\n",
      "Gadotu of Deleth\n",
      "Gadotu of Fysher\n",
      "Gadotu of Gurde\n",
      "Gadotu of High\n",
      "Gadotu of Juel\n",
      "Gadotu of Krandson\n",
      "Gadotu of Leiden\n",
      "Gadotu of Zelder\n",
      "Gadotu of Xe Maillen\n",
      "Gadotu of Cint\n",
      "Gadotu of Van\n",
      "Gadotu of Blind Balverius\n",
      "Gadotu of Nipis\n",
      "Gadotu of Mario\n",
      "Haldrath of Queen Fea\n",
      "Haldrath of Winder\n",
      "Haldrath of Eily\n",
      "Haldrath of Roggn\n",
      "Haldrath of Torne\n",
      "Haldrath of Yer\n",
      "Haldrath of Umipito\n",
      "Haldrath of Incele\n",
      "Haldrath of Ooker\n",
      "Haldrath of Parune\n",
      "Haldrath of Astral\n",
      "Haldrath of Swallurd\n",
      "Haldrath of Dornelia\n",
      "Haldrath of Flac\n",
      "Haldrath of Gindwertsyn\n",
      "Haldrath of Highwand\n",
      "Haldrath of Jean\n",
      "Haldrath of Kinds\n",
      "Haldrath of Leise\n",
      "Haldrath of Zedda\n",
      "Haldrath of Xen Uller\n",
      "Haldrath of Cornelia\n",
      "Haldrath of Vigaar\n",
      "Haldrath of Best\n",
      "Haldrath of Noga\n",
      "Haldrath of Mari\n",
      "Jeehner of Qupeen\n",
      "Jeehner of Windses\n",
      "Jeehner of Ewlver\n",
      "Jeehner of Richess\n",
      "Jeehner of Tell\n",
      "Jeehner of Yey Traileeper\n",
      "Jeehner of Unce\n",
      "Jeehner of Intelle\n",
      "Jeehner of Okin\n",
      "Jeehner of Pellard\n",
      "Jeehner of Aalorus\n",
      "Jeehner of Seller\n",
      "Jeehner of Dine\n",
      "Jeehner of Fynng\n",
      "Jeehner of Ghef\n",
      "Jeehner of Highwwar\n",
      "Jeehner of Jeane\n",
      "Jeehner of Kelmlers\n",
      "Jeehner of Link\n",
      "Jeehner of Zelfher sas Guido\n",
      "Jeehner of Xeq Fyrre\n",
      "Jeehner of Clour Fores\n",
      "Jeehner of Vigharle\n",
      "Jeehner of Beyc\n",
      "Jeehner of Nura\n",
      "Jeehner of Mysura\n",
      "Ki-Shur-Sell of Qewen\n",
      "Ki-Shur-Sell of Winds\n",
      "Ki-Shur-Sell of Elmes\n",
      "Ki-Shur-Sell of Ring\n",
      "Ki-Shur-Sell of Tiansso\n",
      "Ki-Shur-Sell of Yent\n",
      "Ki-Shur-Sell of Unny\n",
      "Ki-Shur-Sell of Insing\n",
      "Ki-Shur-Sell of Old Man\n",
      "Ki-Shur-Sell of Pamele\n",
      "Ki-Shur-Sell of Astral\n",
      "Ki-Shur-Sell of Seller\n",
      "Ki-Shur-Sell of Darnus\n",
      "Ki-Shur-Sell of Foress\n",
      "Ki-Shur-Sell of Gurdy\n",
      "Ki-Shur-Sell of Hurta\n",
      "Ki-Shur-Sell of Jess\n",
      "Ki-Shur-Sell of Kinness\n",
      "Ki-Shur-Sell of Lunseric\n",
      "Ki-Shur-Sell of Zards\n",
      "Ki-Shur-Sell of Xir Fanges\n",
      "Ki-Shur-Sell of Cornds.\n",
      "Ki-Shur-Sell of Visesy\n",
      "Ki-Shur-Sell of Burmes\n",
      "Ki-Shur-Sell of Nai\n",
      "Ki-Shur-Sell of Mina\n"
     ]
    },
    {
     "name": "stdout",
     "output_type": "stream",
     "text": [
      "Lohna of Quren\n",
      "Lohna of Wleur gneth\n",
      "Lohna of Elfhen\n",
      "Lohna of Ring Flal\n",
      "Lohna of Tirh\n",
      "Lohna of Yuru\n",
      "Lohna of Untel\n",
      "Lohna of Icbrarc\n",
      "Lohna of Okk Sibling\n",
      "Lohna of Perma\n",
      "Lohna of Ageny\n",
      "Lohna of Shei\n",
      "Lohna of Dla Farren\n",
      "Lohna of Frat\n",
      "Lohna of Girl\n",
      "Lohna of Higas\n",
      "Lohna of Jug Forrent\n",
      "Lohna of Knrif Fleurest\n",
      "Lohna of Leruk\n",
      "Lohna of Zaris\n",
      "Lohna of XV Leon ape\n",
      "Lohna of Crararde\n",
      "Lohna of Vark\n",
      "Lohna of Bare\n",
      "Lohna of Narg\n",
      "Lohna of Mari\n",
      "Zephor of Qeal\n",
      "Zephor of Wlfig\n",
      "Zephor of Elthef\n",
      "Zephor of Rev\n",
      "Zephor of Teller\n",
      "Zephor of Yelen\n",
      "Zephor of Underrolps\n",
      "Zephor of Insect\n",
      "Zephor of Oldor\n",
      "Zephor of Pilla\n",
      "Zephor of Allen\n",
      "Zephor of Shliepte\n",
      "Zephor of Delis Hilase\n",
      "Zephor of Fishem\n",
      "Zephor of Gilds\n",
      "Zephor of Hynes\n",
      "Zephor of Jean\n",
      "Zephor of Kellos\n",
      "Zephor of Lights\n",
      "Zephor of Zelda\n",
      "Zephor of XV Tenkian\n",
      "Zephor of Cyvess\n",
      "Zephor of Vigher\n",
      "Zephor of Blindos\n",
      "Zephor of Nesto\n",
      "Zephor of Misaing\n",
      "Xande of Queen\n",
      "Xande of Wanter\n",
      "Xande of Elfhe\n",
      "Xande of Reles\n",
      "Xande of Tian\n",
      "Xande of Yabutan\n",
      "Xande of Ullen Boes Alcheim\n",
      "Xande of Iustrait\n",
      "Xande of Obra\n",
      "Xande of Phaid\n",
      "Xande of Agellin\n",
      "Xande of Sacet\n",
      "Xande of Dargen\n",
      "Xande of Filmar\n",
      "Xande of Gira\n",
      "Xande of Higher\n",
      "Xande of Jupasca\n",
      "Xande of Kingleos\n",
      "Xande of Liveit\n",
      "Xande of Zerdor\n",
      "Xande of Xef Faires\n",
      "Xande of Cornelia\n",
      "Xande of Vari\n",
      "Xande of Brada\n",
      "Xande of Naga\n",
      "Xande of Mari\n",
      "Colon of Qure\n",
      "Colon of Winds\n",
      "Colon of Eviscis\n",
      "Colon of Ress\n",
      "Colon of Traser\n",
      "Colon of Yages\n",
      "Colon of Ullen\n",
      "Colon of Incle\n",
      "Colon of Ooo\n",
      "Colon of Priscus\n",
      "Colon of Allen\n",
      "Colon of Seprer\n",
      "Colon of Dologest\n",
      "Colon of Forles\n",
      "Colon of Grass\n",
      "Colon of Heimb\n",
      "Colon of Juggles\n",
      "Colon of Ken\n",
      "Colon of Leveille\n",
      "Colon of Zenq\n",
      "Colon of Xe\n",
      "Colon of Cornelia\n",
      "Colon of Vellian\n",
      "Colon of Burk\n",
      "Colon of Nagus\n",
      "Colon of Magi\n",
      "Vrid of Qeords\n",
      "Vrid of Wrrett\n",
      "Vrid of Elrand\n",
      "Vrid of Redness Ulder\n",
      "Vrid of Tresa\n",
      "Vrid of Yester\n",
      "Vrid of Ustrage\n",
      "Vrid of Inoster\n",
      "Vrid of OBldre Beder\n",
      "Vrid of Pirtal\n",
      "Vrid of Astral\n",
      "Vrid of Swred Houstan\n",
      "Vrid of Dreasess\n",
      "Vrid of Faneq\n",
      "Vrid of Gaster\n",
      "Vrid of Hrise\n",
      "Vrid of Jees\n",
      "Vrid of Kesser\n",
      "Vrid of Light\n",
      "Vrid of Zrandors\n",
      "Vrid of XVI Fenrien\n",
      "Vrid of Cbord\n",
      "Vrid of Viger\n",
      "Vrid of Birles\n",
      "Vrid of Nare\n",
      "Vrid of Marin\n",
      "Bryan of Quenn\n",
      "Bryan of Warts\n",
      "Bryan of Elfhe\n",
      "Bryan of Red Fulleyn\n",
      "Bryan of Timeir\n",
      "Bryan of Yacker\n",
      "Bryan of Underlow By Misige\n",
      "Bryan of Incel\n",
      "Bryan of Okki\n",
      "Bryan of Piller\n",
      "Bryan of Althel\n",
      "Bryan of Speeni\n",
      "Bryan of Darlent Goller\n",
      "Bryan of F-3ten\n",
      "Bryan of Gudde\n",
      "Bryan of Hert\n",
      "Bryan of Jay\n",
      "Bryan of Kbora fyre\n",
      "Bryan of Luac\n",
      "Bryan of Zend\n",
      "Bryan of Xcker Mer\n",
      "Bryan of Carden\n",
      "Bryan of Vell\n",
      "Bryan of Barles\n",
      "Bryan of Nea\n",
      "Bryan of Mage\n",
      "Nellike of Qien\n",
      "Nellike of Walls\n",
      "Nellike of Elfheil\n",
      "Nellike of Ren\n",
      "Nellike of Times\n",
      "Nellike of Yind\n",
      "Nellike of Ullere\n",
      "Nellike of Idoniel\n",
      "Nellike of Oldir\n",
      "Nellike of Pirkt\n",
      "Nellike of Astral\n",
      "Nellike of Seller\n",
      "Nellike of Deeple\n",
      "Nellike of Futumerick\n",
      "Nellike of Ginder\n",
      "Nellike of Hyrule\n",
      "Nellike of Jalanault\n",
      "Nellike of Kind\n",
      "Nellike of Leingo\n",
      "Nellike of Zeeper\n",
      "Nellike of X Aurcheat X Mi\n",
      "Nellike of Cylderian\n",
      "Nellike of Valkyrie\n",
      "Nellike of Bardenu\n",
      "Nellike of Nentiibel\n",
      "Nellike of Mour\n",
      "Mollat of Quan\n",
      "Mollat of Welts\n",
      "Mollat of Eblan\n",
      "Mollat of Rust Fanrces\n",
      "Mollat of Trandson de Vomairo\n",
      "Mollat of Yerand\n",
      "Mollat of Undor\n",
      "Mollat of Inseller\n",
      "Mollat of Ome\n",
      "Mollat of Prishi\n",
      "Mollat of Aulmore\n",
      "Mollat of Strieppe\n",
      "Mollat of Dorne\n",
      "Mollat of Fishie\n",
      "Mollat of Garlss\n",
      "Mollat of Hurker\n",
      "Mollat of Jinks\n",
      "Mollat of Kelda\n",
      "Mollat of Limks\n",
      "Mollat of Zerdi\n",
      "Mollat of Xyn\n",
      "Mollat of Cornelio\n",
      "Mollat of Vessain\n",
      "Mollat of Birdwert\n",
      "Mollat of Nanonsjile\n",
      "Mollat of Misana\n"
     ]
    }
   ],
   "source": [
    "place = []\n",
    "for name in generate_names():\n",
    "    name = name.split()[0]\n",
    "    for long_name in generate_names(name + \" of \"):\n",
    "        print(long_name)\n",
    "        place.append(long_name.split()[2])"
   ]
  },
  {
   "cell_type": "code",
   "execution_count": 33,
   "metadata": {
    "scrolled": true
   },
   "outputs": [
    {
     "data": {
      "text/plain": [
       "['Quen',\n",
       " 'Wald',\n",
       " 'Ezbbl',\n",
       " 'Ranson',\n",
       " 'Tirt',\n",
       " 'Yent',\n",
       " 'Untett',\n",
       " 'Itters',\n",
       " 'Obrir',\n",
       " 'Pint',\n",
       " 'Azelle',\n",
       " 'Sprirt',\n",
       " 'Dartess',\n",
       " 'Fanter',\n",
       " 'Garller',\n",
       " 'Hertlar',\n",
       " 'Jink',\n",
       " 'Kira',\n",
       " 'Leut',\n",
       " 'Zell',\n",
       " 'X',\n",
       " 'Cardus',\n",
       " 'Van',\n",
       " 'Burmec',\n",
       " 'Nelta',\n",
       " 'Mart',\n",
       " 'Qeen',\n",
       " 'Wlane',\n",
       " 'Ellha',\n",
       " 'Resole',\n",
       " 'Tewral',\n",
       " 'Yugian',\n",
       " 'Ugrello',\n",
       " 'Igedus',\n",
       " 'Oldirg',\n",
       " 'Pengagi',\n",
       " 'Anguri',\n",
       " 'Sigglas',\n",
       " 'Derno',\n",
       " 'Farel',\n",
       " 'Granssann',\n",
       " 'Hinasa',\n",
       " 'Jecron',\n",
       " 'Kenny',\n",
       " 'Lesurage',\n",
       " 'Zurness',\n",
       " 'Xeg',\n",
       " 'Chotan',\n",
       " 'Voglo',\n",
       " 'Bage',\n",
       " 'Nargess',\n",
       " 'Man',\n",
       " 'Queen',\n",
       " 'Wumce',\n",
       " 'Ekker',\n",
       " 'Rem',\n",
       " 'Trom',\n",
       " 'Yernall',\n",
       " 'Uuger',\n",
       " 'Ickras',\n",
       " 'Oba',\n",
       " 'Pheffall',\n",
       " 'Allen',\n",
       " 'Sage',\n",
       " 'Damine',\n",
       " 'Fleule',\n",
       " 'Gley',\n",
       " 'Hyrule',\n",
       " 'Julles',\n",
       " 'Kempre',\n",
       " 'Lack',\n",
       " 'Zres',\n",
       " 'Xex',\n",
       " 'Curil',\n",
       " 'Villa',\n",
       " 'BlfFord',\n",
       " 'Nuck',\n",
       " 'Maru',\n",
       " 'Qeten',\n",
       " 'Wlate',\n",
       " 'Eulmore',\n",
       " 'Rirste',\n",
       " 'Tintworw',\n",
       " 'Yen',\n",
       " 'Upur',\n",
       " 'Ilkonj',\n",
       " 'Ondori',\n",
       " 'Poulima',\n",
       " 'Aamu',\n",
       " 'Scrent',\n",
       " 'Dinter',\n",
       " 'Fabul',\n",
       " 'Gyrus',\n",
       " 'Hane',\n",
       " 'Jean',\n",
       " 'King',\n",
       " 'Lith',\n",
       " 'Zorde',\n",
       " 'XII',\n",
       " 'Cyrus',\n",
       " 'Vank',\n",
       " 'Bare',\n",
       " 'Nate',\n",
       " 'Man',\n",
       " 'Quren',\n",
       " 'Wanversin',\n",
       " 'Ekerus',\n",
       " 'Rem',\n",
       " 'Trew',\n",
       " 'Yerwurl',\n",
       " 'Urm',\n",
       " 'Im',\n",
       " 'Ownir',\n",
       " 'Pristine',\n",
       " 'Astral',\n",
       " 'Sinmers',\n",
       " 'Delvake',\n",
       " 'Ferris',\n",
       " 'Grimmas',\n",
       " 'Hyrule',\n",
       " 'Juggless',\n",
       " 'Kenmyrd',\n",
       " 'Leusin',\n",
       " 'Zards',\n",
       " 'X',\n",
       " 'Cirnss',\n",
       " 'Vensing',\n",
       " 'Birds',\n",
       " 'Nesworl',\n",
       " 'Migage',\n",
       " 'Que',\n",
       " 'Wilts',\n",
       " 'Elle',\n",
       " 'Rill',\n",
       " 'Telle',\n",
       " 'Yah',\n",
       " 'Uft',\n",
       " 'Il',\n",
       " 'Old',\n",
       " 'Pyr',\n",
       " 'Almetin',\n",
       " 'Stha',\n",
       " 'Delli',\n",
       " 'Figh',\n",
       " 'Gray',\n",
       " 'Hilla',\n",
       " 'Jull',\n",
       " 'Kines',\n",
       " 'Led',\n",
       " 'Zurg',\n",
       " 'XI',\n",
       " 'Chive',\n",
       " 'Villaix',\n",
       " 'Brin',\n",
       " 'Nell',\n",
       " 'Millan',\n",
       " 'Quon',\n",
       " 'Wyrm',\n",
       " 'Eyt',\n",
       " 'Rinak',\n",
       " 'Tar',\n",
       " 'Yea',\n",
       " 'Uppra',\n",
       " 'Int',\n",
       " 'Onton',\n",
       " 'Piena',\n",
       " 'Astral',\n",
       " 'Seller',\n",
       " 'Dannss',\n",
       " 'Flam',\n",
       " 'Girns',\n",
       " 'Hyrus',\n",
       " 'Juwle',\n",
       " 'Kinn',\n",
       " 'Linc',\n",
       " 'Zerd',\n",
       " 'Xeler',\n",
       " 'C.',\n",
       " 'Via',\n",
       " 'Burt',\n",
       " 'Nabulu',\n",
       " 'Myria',\n",
       " 'Queen',\n",
       " 'Wlind',\n",
       " 'Eblan',\n",
       " 'Raccsen',\n",
       " 'Tinner',\n",
       " 'Yiges',\n",
       " 'Uumr',\n",
       " 'Incel',\n",
       " 'Ocks',\n",
       " 'Piller',\n",
       " 'Astral',\n",
       " 'Scrarc',\n",
       " 'Deman',\n",
       " 'Firne',\n",
       " 'Gyrla',\n",
       " 'Hifah',\n",
       " 'Juris',\n",
       " 'Kinners',\n",
       " 'Link',\n",
       " 'Znand',\n",
       " 'XV',\n",
       " 'Cornel',\n",
       " 'Vineia',\n",
       " \"B'nargin\",\n",
       " 'Nebl',\n",
       " 'Mennic',\n",
       " 'Q.',\n",
       " 'Wiarc',\n",
       " 'Elfheim',\n",
       " 'Ringce',\n",
       " 'Treaul',\n",
       " 'Yel',\n",
       " 'Ume',\n",
       " 'Incle',\n",
       " 'Oich',\n",
       " 'Pcren',\n",
       " 'Allane',\n",
       " 'Saser',\n",
       " 'Delvar',\n",
       " 'Fuban',\n",
       " 'Gindwents',\n",
       " 'Han',\n",
       " 'Jevan',\n",
       " 'Kenny',\n",
       " 'Leonce',\n",
       " 'Zor',\n",
       " 'X',\n",
       " 'Calcineis',\n",
       " 'Val',\n",
       " 'Babel',\n",
       " 'Negri',\n",
       " 'Mark',\n",
       " 'Qumen',\n",
       " 'Wlack',\n",
       " 'Emth',\n",
       " 'Rupe',\n",
       " 'Torol',\n",
       " 'Yougip',\n",
       " 'Uulver',\n",
       " 'Icent',\n",
       " 'Omon',\n",
       " 'Preaug',\n",
       " 'Alfen',\n",
       " 'Sprete',\n",
       " 'Delis',\n",
       " 'Flaine',\n",
       " 'Gieto',\n",
       " 'Highe',\n",
       " 'Jaugi',\n",
       " 'King',\n",
       " 'Liget',\n",
       " 'Zerus',\n",
       " 'X',\n",
       " 'Create',\n",
       " 'Varume',\n",
       " 'Bloephas',\n",
       " 'Nerace',\n",
       " 'Mistius',\n",
       " 'Qeelle',\n",
       " 'Wind',\n",
       " 'Ebern',\n",
       " 'Rish',\n",
       " 'Tiry',\n",
       " 'Yavi',\n",
       " 'Ulter',\n",
       " 'Ia',\n",
       " 'Okkzard',\n",
       " 'Parvin',\n",
       " 'Aptra',\n",
       " 'Sigen',\n",
       " 'Dark',\n",
       " 'Fari',\n",
       " 'Gards',\n",
       " 'Havit',\n",
       " 'Jight',\n",
       " 'Kians',\n",
       " 'Land',\n",
       " 'Zard',\n",
       " 'X',\n",
       " 'Cirpess',\n",
       " 'Vario',\n",
       " 'Byr',\n",
       " 'Na',\n",
       " 'Mari',\n",
       " 'Queen',\n",
       " 'Wunte',\n",
       " 'Eulmor',\n",
       " 'Remus',\n",
       " 'Trints',\n",
       " 'Yerus',\n",
       " 'Uu',\n",
       " 'Iurtor',\n",
       " 'Oulumier',\n",
       " 'Phral',\n",
       " 'Aulum',\n",
       " 'Sumvesare',\n",
       " 'Durtemia',\n",
       " 'Fuur',\n",
       " 'Gulle',\n",
       " 'Herm',\n",
       " 'Jugrers',\n",
       " 'Kir',\n",
       " 'Leurs',\n",
       " 'Zlen',\n",
       " 'Xun',\n",
       " 'Clane',\n",
       " 'Vellurus',\n",
       " 'Burmec',\n",
       " 'Neurun',\n",
       " 'Murtor',\n",
       " 'Quon',\n",
       " 'Widges',\n",
       " 'Elfheor',\n",
       " 'Red',\n",
       " 'Tros',\n",
       " 'Yell',\n",
       " 'Undoros',\n",
       " 'Inogter',\n",
       " 'Orne',\n",
       " 'Peller',\n",
       " 'Alder',\n",
       " 'Spirit',\n",
       " 'Deller',\n",
       " 'Flan',\n",
       " 'Geller',\n",
       " 'Heller',\n",
       " 'Jelmar',\n",
       " 'Keldow',\n",
       " 'Lprim',\n",
       " 'Zelda',\n",
       " 'Xen',\n",
       " 'Celise',\n",
       " 'Vugrer',\n",
       " 'Blinds',\n",
       " 'Naugan',\n",
       " 'Man',\n",
       " 'Qeees',\n",
       " 'Wind',\n",
       " 'Eldhen',\n",
       " 'Reus',\n",
       " 'Thougess',\n",
       " 'Yerus',\n",
       " 'Uventroess',\n",
       " 'Ivol',\n",
       " 'Ourher',\n",
       " 'Prese',\n",
       " 'Akella',\n",
       " 'Seles',\n",
       " 'Durmeis',\n",
       " 'Flous',\n",
       " 'Girds',\n",
       " 'Heidel',\n",
       " 'Jerus',\n",
       " 'Keerd',\n",
       " 'Less',\n",
       " 'Zefsen',\n",
       " 'Xer',\n",
       " 'Cardless',\n",
       " 'Venor',\n",
       " 'Buresta',\n",
       " 'Nugac',\n",
       " 'Mirdas',\n",
       " 'Qeon',\n",
       " 'Went',\n",
       " 'Evicio',\n",
       " 'Revei',\n",
       " 'Trandson',\n",
       " 'Yei',\n",
       " 'Urge',\n",
       " 'Im',\n",
       " 'Orviller',\n",
       " 'Prige',\n",
       " 'Albel',\n",
       " 'Scre',\n",
       " 'Deleth',\n",
       " 'Fysher',\n",
       " 'Gurde',\n",
       " 'High',\n",
       " 'Juel',\n",
       " 'Krandson',\n",
       " 'Leiden',\n",
       " 'Zelder',\n",
       " 'Xe',\n",
       " 'Cint',\n",
       " 'Van',\n",
       " 'Blind',\n",
       " 'Nipis',\n",
       " 'Mario',\n",
       " 'Queen',\n",
       " 'Winder',\n",
       " 'Eily',\n",
       " 'Roggn',\n",
       " 'Torne',\n",
       " 'Yer',\n",
       " 'Umipito',\n",
       " 'Incele',\n",
       " 'Ooker',\n",
       " 'Parune',\n",
       " 'Astral',\n",
       " 'Swallurd',\n",
       " 'Dornelia',\n",
       " 'Flac',\n",
       " 'Gindwertsyn',\n",
       " 'Highwand',\n",
       " 'Jean',\n",
       " 'Kinds',\n",
       " 'Leise',\n",
       " 'Zedda',\n",
       " 'Xen',\n",
       " 'Cornelia',\n",
       " 'Vigaar',\n",
       " 'Best',\n",
       " 'Noga',\n",
       " 'Mari',\n",
       " 'Qupeen',\n",
       " 'Windses',\n",
       " 'Ewlver',\n",
       " 'Richess',\n",
       " 'Tell',\n",
       " 'Yey',\n",
       " 'Unce',\n",
       " 'Intelle',\n",
       " 'Okin',\n",
       " 'Pellard',\n",
       " 'Aalorus',\n",
       " 'Seller',\n",
       " 'Dine',\n",
       " 'Fynng',\n",
       " 'Ghef',\n",
       " 'Highwwar',\n",
       " 'Jeane',\n",
       " 'Kelmlers',\n",
       " 'Link',\n",
       " 'Zelfher',\n",
       " 'Xeq',\n",
       " 'Clour',\n",
       " 'Vigharle',\n",
       " 'Beyc',\n",
       " 'Nura',\n",
       " 'Mysura',\n",
       " 'Qewen',\n",
       " 'Winds',\n",
       " 'Elmes',\n",
       " 'Ring',\n",
       " 'Tiansso',\n",
       " 'Yent',\n",
       " 'Unny',\n",
       " 'Insing',\n",
       " 'Old',\n",
       " 'Pamele',\n",
       " 'Astral',\n",
       " 'Seller',\n",
       " 'Darnus',\n",
       " 'Foress',\n",
       " 'Gurdy',\n",
       " 'Hurta',\n",
       " 'Jess',\n",
       " 'Kinness',\n",
       " 'Lunseric',\n",
       " 'Zards',\n",
       " 'Xir',\n",
       " 'Cornds.',\n",
       " 'Visesy',\n",
       " 'Burmes',\n",
       " 'Nai',\n",
       " 'Mina',\n",
       " 'Quren',\n",
       " 'Wleur',\n",
       " 'Elfhen',\n",
       " 'Ring',\n",
       " 'Tirh',\n",
       " 'Yuru',\n",
       " 'Untel',\n",
       " 'Icbrarc',\n",
       " 'Okk',\n",
       " 'Perma',\n",
       " 'Ageny',\n",
       " 'Shei',\n",
       " 'Dla',\n",
       " 'Frat',\n",
       " 'Girl',\n",
       " 'Higas',\n",
       " 'Jug',\n",
       " 'Knrif',\n",
       " 'Leruk',\n",
       " 'Zaris',\n",
       " 'XV',\n",
       " 'Crararde',\n",
       " 'Vark',\n",
       " 'Bare',\n",
       " 'Narg',\n",
       " 'Mari',\n",
       " 'Qeal',\n",
       " 'Wlfig',\n",
       " 'Elthef',\n",
       " 'Rev',\n",
       " 'Teller',\n",
       " 'Yelen',\n",
       " 'Underrolps',\n",
       " 'Insect',\n",
       " 'Oldor',\n",
       " 'Pilla',\n",
       " 'Allen',\n",
       " 'Shliepte',\n",
       " 'Delis',\n",
       " 'Fishem',\n",
       " 'Gilds',\n",
       " 'Hynes',\n",
       " 'Jean',\n",
       " 'Kellos',\n",
       " 'Lights',\n",
       " 'Zelda',\n",
       " 'XV',\n",
       " 'Cyvess',\n",
       " 'Vigher',\n",
       " 'Blindos',\n",
       " 'Nesto',\n",
       " 'Misaing',\n",
       " 'Queen',\n",
       " 'Wanter',\n",
       " 'Elfhe',\n",
       " 'Reles',\n",
       " 'Tian',\n",
       " 'Yabutan',\n",
       " 'Ullen',\n",
       " 'Iustrait',\n",
       " 'Obra',\n",
       " 'Phaid',\n",
       " 'Agellin',\n",
       " 'Sacet',\n",
       " 'Dargen',\n",
       " 'Filmar',\n",
       " 'Gira',\n",
       " 'Higher',\n",
       " 'Jupasca',\n",
       " 'Kingleos',\n",
       " 'Liveit',\n",
       " 'Zerdor',\n",
       " 'Xef',\n",
       " 'Cornelia',\n",
       " 'Vari',\n",
       " 'Brada',\n",
       " 'Naga',\n",
       " 'Mari',\n",
       " 'Qure',\n",
       " 'Winds',\n",
       " 'Eviscis',\n",
       " 'Ress',\n",
       " 'Traser',\n",
       " 'Yages',\n",
       " 'Ullen',\n",
       " 'Incle',\n",
       " 'Ooo',\n",
       " 'Priscus',\n",
       " 'Allen',\n",
       " 'Seprer',\n",
       " 'Dologest',\n",
       " 'Forles',\n",
       " 'Grass',\n",
       " 'Heimb',\n",
       " 'Juggles',\n",
       " 'Ken',\n",
       " 'Leveille',\n",
       " 'Zenq',\n",
       " 'Xe',\n",
       " 'Cornelia',\n",
       " 'Vellian',\n",
       " 'Burk',\n",
       " 'Nagus',\n",
       " 'Magi',\n",
       " 'Qeords',\n",
       " 'Wrrett',\n",
       " 'Elrand',\n",
       " 'Redness',\n",
       " 'Tresa',\n",
       " 'Yester',\n",
       " 'Ustrage',\n",
       " 'Inoster',\n",
       " 'OBldre',\n",
       " 'Pirtal',\n",
       " 'Astral',\n",
       " 'Swred',\n",
       " 'Dreasess',\n",
       " 'Faneq',\n",
       " 'Gaster',\n",
       " 'Hrise',\n",
       " 'Jees',\n",
       " 'Kesser',\n",
       " 'Light',\n",
       " 'Zrandors',\n",
       " 'XVI',\n",
       " 'Cbord',\n",
       " 'Viger',\n",
       " 'Birles',\n",
       " 'Nare',\n",
       " 'Marin',\n",
       " 'Quenn',\n",
       " 'Warts',\n",
       " 'Elfhe',\n",
       " 'Red',\n",
       " 'Timeir',\n",
       " 'Yacker',\n",
       " 'Underlow',\n",
       " 'Incel',\n",
       " 'Okki',\n",
       " 'Piller',\n",
       " 'Althel',\n",
       " 'Speeni',\n",
       " 'Darlent',\n",
       " 'F-3ten',\n",
       " 'Gudde',\n",
       " 'Hert',\n",
       " 'Jay',\n",
       " 'Kbora',\n",
       " 'Luac',\n",
       " 'Zend',\n",
       " 'Xcker',\n",
       " 'Carden',\n",
       " 'Vell',\n",
       " 'Barles',\n",
       " 'Nea',\n",
       " 'Mage',\n",
       " 'Qien',\n",
       " 'Walls',\n",
       " 'Elfheil',\n",
       " 'Ren',\n",
       " 'Times',\n",
       " 'Yind',\n",
       " 'Ullere',\n",
       " 'Idoniel',\n",
       " 'Oldir',\n",
       " 'Pirkt',\n",
       " 'Astral',\n",
       " 'Seller',\n",
       " 'Deeple',\n",
       " 'Futumerick',\n",
       " 'Ginder',\n",
       " 'Hyrule',\n",
       " 'Jalanault',\n",
       " 'Kind',\n",
       " 'Leingo',\n",
       " 'Zeeper',\n",
       " 'X',\n",
       " 'Cylderian',\n",
       " 'Valkyrie',\n",
       " 'Bardenu',\n",
       " 'Nentiibel',\n",
       " 'Mour',\n",
       " 'Quan',\n",
       " 'Welts',\n",
       " 'Eblan',\n",
       " 'Rust',\n",
       " 'Trandson',\n",
       " 'Yerand',\n",
       " 'Undor',\n",
       " 'Inseller',\n",
       " 'Ome',\n",
       " 'Prishi',\n",
       " 'Aulmore',\n",
       " 'Strieppe',\n",
       " 'Dorne',\n",
       " 'Fishie',\n",
       " 'Garlss',\n",
       " 'Hurker',\n",
       " 'Jinks',\n",
       " 'Kelda',\n",
       " 'Limks',\n",
       " 'Zerdi',\n",
       " 'Xyn',\n",
       " 'Cornelio',\n",
       " 'Vessain',\n",
       " 'Birdwert',\n",
       " 'Nanonsjile',\n",
       " 'Misana']"
      ]
     },
     "execution_count": 33,
     "metadata": {},
     "output_type": "execute_result"
    }
   ],
   "source": [
    "place"
   ]
  },
  {
   "cell_type": "code",
   "execution_count": 34,
   "metadata": {
    "scrolled": true
   },
   "outputs": [
    {
     "data": {
      "text/plain": [
       "['Gards',\n",
       " 'Garller',\n",
       " 'Garlss',\n",
       " 'Gaster',\n",
       " 'Geller',\n",
       " 'Ghef',\n",
       " 'Gieto',\n",
       " 'Gilds',\n",
       " 'Ginder',\n",
       " 'Gindwents',\n",
       " 'Gindwertsyn',\n",
       " 'Gira',\n",
       " 'Girds',\n",
       " 'Girl',\n",
       " 'Girns',\n",
       " 'Gley',\n",
       " 'Granssann',\n",
       " 'Grass',\n",
       " 'Gray',\n",
       " 'Grimmas',\n",
       " 'Gudde',\n",
       " 'Gulle',\n",
       " 'Gurde',\n",
       " 'Gurdy',\n",
       " 'Gyrla',\n",
       " 'Gyrus']"
      ]
     },
     "execution_count": 34,
     "metadata": {},
     "output_type": "execute_result"
    }
   ],
   "source": [
    "G = list(filter(lambda name: name[0] == \"G\", place))\n",
    "G.sort()\n",
    "G"
   ]
  },
  {
   "cell_type": "code",
   "execution_count": 35,
   "metadata": {},
   "outputs": [
    {
     "data": {
      "text/plain": [
       "array(['Geller', 'Kinners', 'XI', 'Astral', 'Gilds', 'Aalorus', 'Zedda',\n",
       "       'Leut', 'Man', 'Zor'], dtype='<U11')"
      ]
     },
     "execution_count": 35,
     "metadata": {},
     "output_type": "execute_result"
    }
   ],
   "source": [
    "np.random.choice(place, size=10, replace=False)"
   ]
  },
  {
   "cell_type": "code",
   "execution_count": 36,
   "metadata": {},
   "outputs": [
    {
     "data": {
      "text/plain": [
       "array(['Evicio', 'Im', 'Zelfher', 'Kesser', 'Birdwert', 'Swred', 'Tewral',\n",
       "       'Tell', 'Yernall', 'Dine'], dtype='<U11')"
      ]
     },
     "execution_count": 36,
     "metadata": {},
     "output_type": "execute_result"
    }
   ],
   "source": [
    "np.random.choice(place, size=10, replace=False)"
   ]
  },
  {
   "cell_type": "code",
   "execution_count": 37,
   "metadata": {},
   "outputs": [
    {
     "data": {
      "text/plain": [
       "array(['Prige', 'Narg', 'Astral', 'Kenny', 'Undoros', 'Lights', 'Seller',\n",
       "       'Wleur', 'Red', 'Geller'], dtype='<U11')"
      ]
     },
     "execution_count": 37,
     "metadata": {},
     "output_type": "execute_result"
    }
   ],
   "source": [
    "np.random.choice(place, size=10, replace=False)"
   ]
  },
  {
   "cell_type": "code",
   "execution_count": 38,
   "metadata": {
    "scrolled": true
   },
   "outputs": [
    {
     "data": {
      "text/plain": [
       "['Quan',\n",
       " 'Wulfus',\n",
       " 'Elphelt Valentine',\n",
       " 'Rosfi Jease',\n",
       " 'Toorike Adeboin',\n",
       " 'Yorta Snekia',\n",
       " 'Uleva',\n",
       " 'Inaru',\n",
       " 'Oreas Runsbol',\n",
       " 'Priscile',\n",
       " 'Ale',\n",
       " 'Strait',\n",
       " 'Damcie',\n",
       " 'Fishtran',\n",
       " 'Guberou',\n",
       " 'Hrulysus',\n",
       " 'Joacin',\n",
       " 'Krace',\n",
       " 'Leocaen',\n",
       " 'Zunny',\n",
       " 'Xashnighwall de Haillenarte',\n",
       " 'Chars',\n",
       " 'Valens',\n",
       " 'Beldaix',\n",
       " 'Noraa Misuri',\n",
       " 'Motsobe']"
      ]
     },
     "execution_count": 38,
     "metadata": {},
     "output_type": "execute_result"
    }
   ],
   "source": [
    "generate_names()"
   ]
  },
  {
   "cell_type": "code",
   "execution_count": null,
   "metadata": {},
   "outputs": [],
   "source": []
  }
 ],
 "metadata": {
  "accelerator": "GPU",
  "colab": {
   "collapsed_sections": [],
   "name": "text_generation.ipynb",
   "toc_visible": true
  },
  "kernelspec": {
   "display_name": "Python 3",
   "language": "python",
   "name": "python3"
  },
  "language_info": {
   "codemirror_mode": {
    "name": "ipython",
    "version": 3
   },
   "file_extension": ".py",
   "mimetype": "text/x-python",
   "name": "python",
   "nbconvert_exporter": "python",
   "pygments_lexer": "ipython3",
   "version": "3.8.5"
  }
 },
 "nbformat": 4,
 "nbformat_minor": 1
}
