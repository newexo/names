{
 "cells": [
  {
   "cell_type": "markdown",
   "metadata": {
    "id": "hX4n9TsbGw-f"
   },
   "source": [
    "##### Copyright 2018 The TensorFlow Authors."
   ]
  },
  {
   "cell_type": "code",
   "execution_count": 1,
   "metadata": {
    "cellView": "form",
    "execution": {
     "iopub.execute_input": "2021-06-16T15:26:56.528893Z",
     "iopub.status.busy": "2021-06-16T15:26:56.528157Z",
     "iopub.status.idle": "2021-06-16T15:26:56.530276Z",
     "shell.execute_reply": "2021-06-16T15:26:56.530617Z"
    },
    "id": "0nbI5DtDGw-i"
   },
   "outputs": [],
   "source": [
    "#@title Licensed under the Apache License, Version 2.0 (the \"License\");\n",
    "# you may not use this file except in compliance with the License.\n",
    "# You may obtain a copy of the License at\n",
    "#\n",
    "# https://www.apache.org/licenses/LICENSE-2.0\n",
    "#\n",
    "# Unless required by applicable law or agreed to in writing, software\n",
    "# distributed under the License is distributed on an \"AS IS\" BASIS,\n",
    "# WITHOUT WARRANTIES OR CONDITIONS OF ANY KIND, either express or implied.\n",
    "# See the License for the specific language governing permissions and\n",
    "# limitations under the License."
   ]
  },
  {
   "cell_type": "markdown",
   "metadata": {
    "id": "9TnJztDZGw-n"
   },
   "source": [
    "# Text classification with an RNN"
   ]
  },
  {
   "cell_type": "markdown",
   "metadata": {
    "id": "AfN3bMR5Gw-o"
   },
   "source": [
    "<table class=\"tfo-notebook-buttons\" align=\"left\">\n",
    "  <td>\n",
    "    <a target=\"_blank\" href=\"https://www.tensorflow.org/text/tutorials/text_classification_rnn\"><img src=\"https://www.tensorflow.org/images/tf_logo_32px.png\" />View on TensorFlow.org</a>\n",
    "  </td>\n",
    "  <td>\n",
    "    <a target=\"_blank\" href=\"https://colab.research.google.com/github/tensorflow/text/blob/master/docs/tutorials/text_classification_rnn.ipynb\"><img src=\"https://www.tensorflow.org/images/colab_logo_32px.png\" />Run in Google Colab</a>\n",
    "  </td>\n",
    "  <td>\n",
    "    <a target=\"_blank\" href=\"https://github.com/tensorflow/text/blob/master/docs/tutorials/text_classification_rnn.ipynb\"><img src=\"https://www.tensorflow.org/images/GitHub-Mark-32px.png\" />View source on GitHub</a>\n",
    "  </td>\n",
    "  <td>\n",
    "    <a href=\"https://storage.googleapis.com/tensorflow_docs/text/docs/tutorials/text_classification_rnn.ipynb\"><img src=\"https://www.tensorflow.org/images/download_logo_32px.png\" />Download notebook</a>\n",
    "  </td>\n",
    "</table>"
   ]
  },
  {
   "cell_type": "markdown",
   "metadata": {
    "id": "lUWearf0Gw-p"
   },
   "source": [
    "This text classification tutorial trains a [recurrent neural network](https://developers.google.com/machine-learning/glossary/#recurrent_neural_network) on the [IMDB large movie review dataset](http://ai.stanford.edu/~amaas/data/sentiment/) for sentiment analysis."
   ]
  },
  {
   "cell_type": "markdown",
   "metadata": {
    "id": "_2VQo4bajwUU"
   },
   "source": [
    "## Setup"
   ]
  },
  {
   "cell_type": "code",
   "execution_count": 2,
   "metadata": {
    "execution": {
     "iopub.execute_input": "2021-06-16T15:26:56.537721Z",
     "iopub.status.busy": "2021-06-16T15:26:56.536752Z",
     "iopub.status.idle": "2021-06-16T15:26:58.328358Z",
     "shell.execute_reply": "2021-06-16T15:26:58.328758Z"
    },
    "id": "z682XYsrjkY9"
   },
   "outputs": [],
   "source": [
    "import numpy as np\n",
    "\n",
    "import tensorflow_datasets as tfds\n",
    "import tensorflow as tf\n",
    "\n",
    "tfds.disable_progress_bar()"
   ]
  },
  {
   "cell_type": "markdown",
   "metadata": {
    "id": "1rXHa-w9JZhb"
   },
   "source": [
    "Import `matplotlib` and create a helper function to plot graphs:"
   ]
  },
  {
   "cell_type": "code",
   "execution_count": null,
   "metadata": {
    "execution": {
     "iopub.execute_input": "2021-06-16T15:26:58.334200Z",
     "iopub.status.busy": "2021-06-16T15:26:58.333260Z",
     "iopub.status.idle": "2021-06-16T15:26:58.568409Z",
     "shell.execute_reply": "2021-06-16T15:26:58.567813Z"
    },
    "id": "Mp1Z7P9pYRSK"
   },
   "outputs": [],
   "source": [
    "import matplotlib.pyplot as plt\n",
    "\n",
    "\n",
    "def plot_graphs(history, metric):\n",
    "  plt.plot(history.history[metric])\n",
    "  plt.plot(history.history['val_'+metric], '')\n",
    "  plt.xlabel(\"Epochs\")\n",
    "  plt.ylabel(metric)\n",
    "  plt.legend([metric, 'val_'+metric])"
   ]
  },
  {
   "cell_type": "markdown",
   "metadata": {
    "id": "pRmMubr0jrE2"
   },
   "source": [
    "## Setup input pipeline\n",
    "\n",
    "\n",
    "The IMDB large movie review dataset is a *binary classification* dataset—all the reviews have either a *positive* or *negative* sentiment.\n",
    "\n",
    "Download the dataset using [TFDS](https://www.tensorflow.org/datasets). See the [loading text tutorial](https://www.tensorflow.org/tutorials/load_data/text) for details on how to load this sort of data manually.\n"
   ]
  },
  {
   "cell_type": "code",
   "execution_count": 4,
   "metadata": {
    "execution": {
     "iopub.execute_input": "2021-06-16T15:26:58.572911Z",
     "iopub.status.busy": "2021-06-16T15:26:58.572271Z",
     "iopub.status.idle": "2021-06-16T15:27:02.753485Z",
     "shell.execute_reply": "2021-06-16T15:27:02.753876Z"
    },
    "id": "SHRwRoP2nVHX"
   },
   "outputs": [
    {
     "data": {
      "text/plain": [
       "(TensorSpec(shape=(), dtype=tf.string, name=None),\n",
       " TensorSpec(shape=(), dtype=tf.int64, name=None))"
      ]
     },
     "execution_count": 1,
     "metadata": {},
     "output_type": "execute_result"
    }
   ],
   "source": [
    "dataset, info = tfds.load('imdb_reviews', with_info=True,\n",
    "                          as_supervised=True)\n",
    "train_dataset, test_dataset = dataset['train'], dataset['test']\n",
    "\n",
    "train_dataset.element_spec"
   ]
  },
  {
   "cell_type": "markdown",
   "metadata": {
    "id": "nWA4c2ir7g6p"
   },
   "source": [
    "Initially this returns a dataset of (text, label pairs):"
   ]
  },
  {
   "cell_type": "code",
   "execution_count": 5,
   "metadata": {
    "execution": {
     "iopub.execute_input": "2021-06-16T15:27:02.759381Z",
     "iopub.status.busy": "2021-06-16T15:27:02.758539Z",
     "iopub.status.idle": "2021-06-16T15:27:04.166183Z",
     "shell.execute_reply": "2021-06-16T15:27:04.165696Z"
    },
    "id": "vd4_BGKyurao"
   },
   "outputs": [
    {
     "name": "stdout",
     "output_type": "stream",
     "text": [
      "text:  b\"This was an absolutely terrible movie. Don't be lured in by Christopher Walken or Michael Ironside. Both are great actors, but this must simply be their worst role in history. Even their great acting could not redeem this movie's ridiculous storyline. This movie is an early nineties US propaganda piece. The most pathetic scenes were those when the Columbian rebels were making their cases for revolutions. Maria Conchita Alonso appeared phony, and her pseudo-love affair with Walken was nothing but a pathetic emotional plug in a movie that was devoid of any real meaning. I am disappointed that there are movies like this, ruining actor's like Christopher Walken's good name. I could barely sit through it.\"\n",
      "label:  0\n"
     ]
    }
   ],
   "source": [
    "for example, label in train_dataset.take(1):\n",
    "  print('text: ', example.numpy())\n",
    "  print('label: ', label.numpy())"
   ]
  },
  {
   "cell_type": "markdown",
   "metadata": {
    "id": "z2qVJzcEluH_"
   },
   "source": [
    "Next shuffle the data for training and create batches of these `(text, label)` pairs:"
   ]
  },
  {
   "cell_type": "code",
   "execution_count": 6,
   "metadata": {
    "execution": {
     "iopub.execute_input": "2021-06-16T15:27:04.169938Z",
     "iopub.status.busy": "2021-06-16T15:27:04.169371Z",
     "iopub.status.idle": "2021-06-16T15:27:04.171824Z",
     "shell.execute_reply": "2021-06-16T15:27:04.171383Z"
    },
    "id": "dDsCaZCDYZgm"
   },
   "outputs": [],
   "source": [
    "BUFFER_SIZE = 10000\n",
    "BATCH_SIZE = 64"
   ]
  },
  {
   "cell_type": "code",
   "execution_count": 7,
   "metadata": {
    "execution": {
     "iopub.execute_input": "2021-06-16T15:27:04.175547Z",
     "iopub.status.busy": "2021-06-16T15:27:04.175018Z",
     "iopub.status.idle": "2021-06-16T15:27:04.179083Z",
     "shell.execute_reply": "2021-06-16T15:27:04.179408Z"
    },
    "id": "VznrltNOnUc5"
   },
   "outputs": [],
   "source": [
    "train_dataset = train_dataset.shuffle(BUFFER_SIZE).batch(BATCH_SIZE).prefetch(tf.data.AUTOTUNE)\n",
    "test_dataset = test_dataset.batch(BATCH_SIZE).prefetch(tf.data.AUTOTUNE)"
   ]
  },
  {
   "cell_type": "code",
   "execution_count": 8,
   "metadata": {
    "execution": {
     "iopub.execute_input": "2021-06-16T15:27:04.183246Z",
     "iopub.status.busy": "2021-06-16T15:27:04.182681Z",
     "iopub.status.idle": "2021-06-16T15:27:05.295519Z",
     "shell.execute_reply": "2021-06-16T15:27:05.295876Z"
    },
    "id": "jqkvdcFv41wC"
   },
   "outputs": [
    {
     "name": "stdout",
     "output_type": "stream",
     "text": [
      "texts:  [b\"I gotta say, Clive Barker's Undying is by far the best horror game to have ever been made. I've played Resident Evil, Silent Hill and the Evil Dead and Castlevania games but none of them have captured the pure glee with which this game tackles its horrific elements. Barker is good at what he does, which is attach the horror to our world, and it shows as his hand is clearly everywhere in this game. Heck, even his voice is in the game as one of the main characters. Full of lush visuals and enough atmosphere to shake a stick at, Undying is the game to beat in my books as the best horror title. I just wish that this had made it to a console system but alas poor PC sales nipped that one in the bud.\"\n",
      " b'This is the kind of film for a snowy Sunday afternoon when the rest of the world can go ahead with its own business as you descend into a big arm-chair and mellow for a couple of hours. Wonderful performances from Cher and Nicolas Cage (as always) gently row the plot along. There are no rapids to cross, no dangerous waters, just a warm and witty paddle through New York life at its best. A family film in every sense and one that deserves the praise it received.'\n",
      " b'In Stand By Me, Vern and Teddy discuss who was tougher, Superman or Mighty Mouse. My friends and I often discuss who would win a fight too. Sometimes we get absurd and compare guys like MacGyver and The Terminator or Rambo and Matrix. But now it seems that we discuss guys like Jackie Chan, Bruce Lee and Jet Li. It is a pointless comparison seeing that Lee is dead, but it is a fun one. And if you go by what we have seen from Jet Li in Lethal 4 and Black Mask, you have to at least say that he would match up well against Chan. In this film he comes across as a martial arts God.<br /><br />Black Mask is about a man that was created along with many other men, to be supreme fighting machines. Their only purpose is to win wars that other people lose. They are invincible in some ways. Now that is the premise for the film, but what that does is sets up all the amazingly choreographed fight scenes.<br /><br />Jet Li is a marvel. He can do things with and to his body that no human being should be able to do. And that is what makes watching him so fun.<br /><br />Besides the martial arts in the film, Black Mask is strong with humour and that is due to the chemistry that Jet has with his co-star, the police officer. They are great together. But to be honest. if anyone is reading this review, they want to know if the film is kick ass in the action department. And the answer to that is a resounding YES!!! Lots and lots of gory mindless action. You will love this film.']\n",
      "\n",
      "labels:  [1 1 1]\n"
     ]
    }
   ],
   "source": [
    "for example, label in train_dataset.take(1):\n",
    "  print('texts: ', example.numpy()[:3])\n",
    "  print()\n",
    "  print('labels: ', label.numpy()[:3])"
   ]
  },
  {
   "cell_type": "markdown",
   "metadata": {
    "id": "s5eWCo88voPY"
   },
   "source": [
    "## Create the text encoder"
   ]
  },
  {
   "cell_type": "markdown",
   "metadata": {
    "id": "TFevcItw15P_"
   },
   "source": [
    "The raw text loaded by `tfds` needs to be processed before it can be used in a model. The simplest way to process text for training is using the `experimental.preprocessing.TextVectorization` layer. This layer has many capabilities, but this tutorial sticks to the default behavior.\n",
    "\n",
    "Create the layer, and pass the dataset's text to the layer's `.adapt` method:"
   ]
  },
  {
   "cell_type": "code",
   "execution_count": 9,
   "metadata": {
    "execution": {
     "iopub.execute_input": "2021-06-16T15:27:05.300459Z",
     "iopub.status.busy": "2021-06-16T15:27:05.299829Z",
     "iopub.status.idle": "2021-06-16T15:27:09.327398Z",
     "shell.execute_reply": "2021-06-16T15:27:09.326705Z"
    },
    "id": "uC25Lu1Yvuqy"
   },
   "outputs": [],
   "source": [
    "VOCAB_SIZE = 1000\n",
    "encoder = tf.keras.layers.experimental.preprocessing.TextVectorization(\n",
    "    max_tokens=VOCAB_SIZE)\n",
    "encoder.adapt(train_dataset.map(lambda text, label: text))"
   ]
  },
  {
   "cell_type": "markdown",
   "metadata": {
    "id": "IuQzVBbe3Ldu"
   },
   "source": [
    "The `.adapt` method sets the layer's vocabulary. Here are the first 20 tokens. After the padding and unknown tokens they're sorted by frequency: "
   ]
  },
  {
   "cell_type": "code",
   "execution_count": 10,
   "metadata": {
    "execution": {
     "iopub.execute_input": "2021-06-16T15:27:09.333769Z",
     "iopub.status.busy": "2021-06-16T15:27:09.333120Z",
     "iopub.status.idle": "2021-06-16T15:27:09.336019Z",
     "shell.execute_reply": "2021-06-16T15:27:09.335510Z"
    },
    "id": "tBoyjjWg0Ac9"
   },
   "outputs": [
    {
     "data": {
      "text/plain": [
       "array(['', '[UNK]', 'the', 'and', 'a', 'of', 'to', 'is', 'in', 'it', 'i',\n",
       "       'this', 'that', 'br', 'was', 'as', 'for', 'with', 'movie', 'but'],\n",
       "      dtype='<U14')"
      ]
     },
     "execution_count": 1,
     "metadata": {},
     "output_type": "execute_result"
    }
   ],
   "source": [
    "vocab = np.array(encoder.get_vocabulary())\n",
    "vocab[:20]"
   ]
  },
  {
   "cell_type": "markdown",
   "metadata": {
    "id": "mjId5pua3jHQ"
   },
   "source": [
    "Once the vocabulary is set, the layer can encode text into indices. The tensors of indices are 0-padded to the longest sequence in the batch (unless you set a fixed `output_sequence_length`):"
   ]
  },
  {
   "cell_type": "code",
   "execution_count": 11,
   "metadata": {
    "execution": {
     "iopub.execute_input": "2021-06-16T15:27:09.339633Z",
     "iopub.status.busy": "2021-06-16T15:27:09.339092Z",
     "iopub.status.idle": "2021-06-16T15:27:09.352392Z",
     "shell.execute_reply": "2021-06-16T15:27:09.351969Z"
    },
    "id": "RGc7C9WiwRWs"
   },
   "outputs": [
    {
     "data": {
      "text/plain": [
       "array([[ 10,   1, 130, ...,   0,   0,   0],\n",
       "       [ 11,   7,   2, ...,   0,   0,   0],\n",
       "       [  8, 847,  33, ...,   0,   0,   0]])"
      ]
     },
     "execution_count": 1,
     "metadata": {},
     "output_type": "execute_result"
    }
   ],
   "source": [
    "encoded_example = encoder(example)[:3].numpy()\n",
    "encoded_example"
   ]
  },
  {
   "cell_type": "markdown",
   "metadata": {
    "id": "F5cjz0bS39IN"
   },
   "source": [
    "With the default settings, the process is not completely reversible. There are three main reasons for that:\n",
    "\n",
    "1. The default value for `preprocessing.TextVectorization`'s `standardize` argument is `\"lower_and_strip_punctuation\"`.\n",
    "2. The limited vocabulary size and lack of character-based fallback results in some unknown tokens."
   ]
  },
  {
   "cell_type": "code",
   "execution_count": 12,
   "metadata": {
    "execution": {
     "iopub.execute_input": "2021-06-16T15:27:09.356436Z",
     "iopub.status.busy": "2021-06-16T15:27:09.355800Z",
     "iopub.status.idle": "2021-06-16T15:27:09.361048Z",
     "shell.execute_reply": "2021-06-16T15:27:09.360542Z"
    },
    "id": "N_tD0QY5wXaK"
   },
   "outputs": [
    {
     "name": "stdout",
     "output_type": "stream",
     "text": [
      "Original:  b\"I gotta say, Clive Barker's Undying is by far the best horror game to have ever been made. I've played Resident Evil, Silent Hill and the Evil Dead and Castlevania games but none of them have captured the pure glee with which this game tackles its horrific elements. Barker is good at what he does, which is attach the horror to our world, and it shows as his hand is clearly everywhere in this game. Heck, even his voice is in the game as one of the main characters. Full of lush visuals and enough atmosphere to shake a stick at, Undying is the game to beat in my books as the best horror title. I just wish that this had made it to a console system but alas poor PC sales nipped that one in the bud.\"\n",
      "Round-trip:  i [UNK] say [UNK] [UNK] [UNK] is by far the best horror game to have ever been made ive played [UNK] evil [UNK] [UNK] and the evil dead and [UNK] [UNK] but none of them have [UNK] the [UNK] [UNK] with which this game [UNK] its [UNK] elements [UNK] is good at what he does which is [UNK] the horror to our world and it shows as his hand is clearly [UNK] in this game [UNK] even his voice is in the game as one of the main characters full of [UNK] [UNK] and enough atmosphere to [UNK] a [UNK] at [UNK] is the game to [UNK] in my [UNK] as the best horror title i just wish that this had made it to a [UNK] [UNK] but [UNK] poor [UNK] [UNK] [UNK] that one in the [UNK]                                                                                                                                                                                                                                                                                                                                                                                                                                                                                                                                                                                                                                                                                                                                                                                                                                                                                   \n",
      "\n",
      "Original:  b'This is the kind of film for a snowy Sunday afternoon when the rest of the world can go ahead with its own business as you descend into a big arm-chair and mellow for a couple of hours. Wonderful performances from Cher and Nicolas Cage (as always) gently row the plot along. There are no rapids to cross, no dangerous waters, just a warm and witty paddle through New York life at its best. A family film in every sense and one that deserves the praise it received.'\n",
      "Round-trip:  this is the kind of film for a [UNK] [UNK] [UNK] when the rest of the world can go [UNK] with its own business as you [UNK] into a big [UNK] and [UNK] for a couple of hours wonderful performances from [UNK] and [UNK] [UNK] as always [UNK] [UNK] the plot along there are no [UNK] to [UNK] no [UNK] [UNK] just a [UNK] and [UNK] [UNK] through new york life at its best a family film in every sense and one that deserves the [UNK] it [UNK]                                                                                                                                                                                                                                                                                                                                                                                                                                                                                                                                                                                                                                                                                                                                                                                                                                                                                                                                     \n",
      "\n",
      "Original:  b'In Stand By Me, Vern and Teddy discuss who was tougher, Superman or Mighty Mouse. My friends and I often discuss who would win a fight too. Sometimes we get absurd and compare guys like MacGyver and The Terminator or Rambo and Matrix. But now it seems that we discuss guys like Jackie Chan, Bruce Lee and Jet Li. It is a pointless comparison seeing that Lee is dead, but it is a fun one. And if you go by what we have seen from Jet Li in Lethal 4 and Black Mask, you have to at least say that he would match up well against Chan. In this film he comes across as a martial arts God.<br /><br />Black Mask is about a man that was created along with many other men, to be supreme fighting machines. Their only purpose is to win wars that other people lose. They are invincible in some ways. Now that is the premise for the film, but what that does is sets up all the amazingly choreographed fight scenes.<br /><br />Jet Li is a marvel. He can do things with and to his body that no human being should be able to do. And that is what makes watching him so fun.<br /><br />Besides the martial arts in the film, Black Mask is strong with humour and that is due to the chemistry that Jet has with his co-star, the police officer. They are great together. But to be honest. if anyone is reading this review, they want to know if the film is kick ass in the action department. And the answer to that is a resounding YES!!! Lots and lots of gory mindless action. You will love this film.'\n",
      "Round-trip:  in stand by me [UNK] and [UNK] [UNK] who was [UNK] [UNK] or [UNK] [UNK] my friends and i often [UNK] who would [UNK] a fight too sometimes we get [UNK] and [UNK] guys like [UNK] and the [UNK] or [UNK] and [UNK] but now it seems that we [UNK] guys like [UNK] [UNK] [UNK] lee and [UNK] [UNK] it is a [UNK] [UNK] seeing that lee is dead but it is a fun one and if you go by what we have seen from [UNK] [UNK] in [UNK] 4 and black [UNK] you have to at least say that he would [UNK] up well against [UNK] in this film he comes across as a [UNK] [UNK] [UNK] br black [UNK] is about a man that was [UNK] along with many other men to be [UNK] fighting [UNK] their only [UNK] is to [UNK] [UNK] that other people [UNK] they are [UNK] in some ways now that is the premise for the film but what that does is sets up all the [UNK] [UNK] fight [UNK] br [UNK] [UNK] is a [UNK] he can do things with and to his body that no human being should be able to do and that is what makes watching him so [UNK] br [UNK] the [UNK] [UNK] in the film black [UNK] is strong with [UNK] and that is due to the [UNK] that [UNK] has with his [UNK] the police [UNK] they are great together but to be [UNK] if anyone is reading this review they want to know if the film is [UNK] [UNK] in the action [UNK] and the [UNK] to that is a [UNK] yes lots and lots of [UNK] [UNK] action you will love this film                                                                                                                                                                                                                                                                                                                                                                                                                                                                                                                                                                                                                                                                                                                             \n",
      "\n"
     ]
    }
   ],
   "source": [
    "for n in range(3):\n",
    "  print(\"Original: \", example[n].numpy())\n",
    "  print(\"Round-trip: \", \" \".join(vocab[encoded_example[n]]))\n",
    "  print()"
   ]
  },
  {
   "cell_type": "markdown",
   "metadata": {
    "id": "bjUqGVBxGw-t"
   },
   "source": [
    "## Create the model"
   ]
  },
  {
   "cell_type": "markdown",
   "metadata": {
    "id": "W7zsmInBOCPO"
   },
   "source": [
    "![A drawing of the information flow in the model](images/bidirectional.png)"
   ]
  },
  {
   "cell_type": "markdown",
   "metadata": {
    "id": "bgs6nnSTGw-t"
   },
   "source": [
    "Above is a diagram of the model. \n",
    "\n",
    "1. This model can be build as a `tf.keras.Sequential`.\n",
    "\n",
    "2. The first layer is the `encoder`, which converts the text to a sequence of token indices.\n",
    "\n",
    "3. After the encoder is an embedding layer. An embedding layer stores one vector per word. When called, it converts the sequences of word indices to sequences of vectors. These vectors are trainable. After training (on enough data), words with similar meanings often have similar vectors.\n",
    "\n",
    "  This index-lookup is much more efficient than the equivalent operation of passing a one-hot encoded vector through a `tf.keras.layers.Dense` layer.\n",
    "\n",
    "4. A recurrent neural network (RNN) processes sequence input by iterating through the elements. RNNs pass the outputs from one timestep to their input on the next timestep.\n",
    "\n",
    "  The `tf.keras.layers.Bidirectional` wrapper can also be used with an RNN layer. This propagates the input forward and backwards through the RNN layer and then concatenates the final output. \n",
    "\n",
    "  * The main advantage of a bidirectional RNN is that the signal from the beginning of the input doesn't need to be processed all the way through every timestep to affect the output.  \n",
    "\n",
    "  * The main disadvantage of a bidirectional RNN is that you can't efficiently stream predictions as words are being added to the end.\n",
    "\n",
    "5. After the RNN has converted the sequence to a single vector the two `layers.Dense` do some final processing, and convert from this vector representation to a single logit as the classification output. \n"
   ]
  },
  {
   "cell_type": "markdown",
   "metadata": {
    "id": "V4fodCI7soQi"
   },
   "source": [
    "The code to implement this is below:"
   ]
  },
  {
   "cell_type": "code",
   "execution_count": 13,
   "metadata": {
    "execution": {
     "iopub.execute_input": "2021-06-16T15:27:09.381161Z",
     "iopub.status.busy": "2021-06-16T15:27:09.380537Z",
     "iopub.status.idle": "2021-06-16T15:27:09.384852Z",
     "shell.execute_reply": "2021-06-16T15:27:09.384328Z"
    },
    "id": "LwfoBkmRYcP3"
   },
   "outputs": [],
   "source": [
    "model = tf.keras.Sequential([\n",
    "    encoder,\n",
    "    tf.keras.layers.Embedding(\n",
    "        input_dim=len(encoder.get_vocabulary()),\n",
    "        output_dim=64,\n",
    "        # Use masking to handle the variable sequence lengths\n",
    "        mask_zero=True),\n",
    "    tf.keras.layers.Bidirectional(tf.keras.layers.LSTM(64)),\n",
    "    tf.keras.layers.Dense(64, activation='relu'),\n",
    "    tf.keras.layers.Dense(1)\n",
    "])"
   ]
  },
  {
   "cell_type": "markdown",
   "metadata": {
    "id": "QIGmIGkkouUb"
   },
   "source": [
    "Please note that Keras sequential model is used here since all the layers in the model only have single input and produce single output. In case you want to use stateful RNN layer, you might want to build your model with Keras functional API or model subclassing so that you can retrieve and reuse the RNN layer states. Please check [Keras RNN guide](https://www.tensorflow.org/guide/keras/rnn#rnn_state_reuse) for more details."
   ]
  },
  {
   "cell_type": "markdown",
   "metadata": {
    "id": "kF-PsCk1LwjY"
   },
   "source": [
    "The embedding layer [uses masking](https://www.tensorflow.org/guide/keras/masking_and_padding) to handle the varying sequence-lengths. All the layers after the `Embedding` support masking:"
   ]
  },
  {
   "cell_type": "code",
   "execution_count": 14,
   "metadata": {
    "execution": {
     "iopub.execute_input": "2021-06-16T15:27:09.389065Z",
     "iopub.status.busy": "2021-06-16T15:27:09.388367Z",
     "iopub.status.idle": "2021-06-16T15:27:09.390722Z",
     "shell.execute_reply": "2021-06-16T15:27:09.391195Z"
    },
    "id": "87a8-CwfKebw"
   },
   "outputs": [
    {
     "name": "stdout",
     "output_type": "stream",
     "text": [
      "[False, True, True, True, True]\n"
     ]
    }
   ],
   "source": [
    "print([layer.supports_masking for layer in model.layers])"
   ]
  },
  {
   "cell_type": "markdown",
   "metadata": {
    "id": "ZlS0iaUIWLpI"
   },
   "source": [
    "To confirm that this works as expected, evaluate a sentence twice. First, alone so there's no padding to mask:"
   ]
  },
  {
   "cell_type": "code",
   "execution_count": 15,
   "metadata": {
    "execution": {
     "iopub.execute_input": "2021-06-16T15:27:09.395682Z",
     "iopub.status.busy": "2021-06-16T15:27:09.395022Z",
     "iopub.status.idle": "2021-06-16T15:27:14.944725Z",
     "shell.execute_reply": "2021-06-16T15:27:14.945164Z"
    },
    "id": "O41gw3KfWHus"
   },
   "outputs": [
    {
     "name": "stdout",
     "output_type": "stream",
     "text": [
      "[-0.00750345]\n"
     ]
    }
   ],
   "source": [
    "# predict on a sample text without padding.\n",
    "\n",
    "sample_text = ('The movie was cool. The animation and the graphics '\n",
    "               'were out of this world. I would recommend this movie.')\n",
    "predictions = model.predict(np.array([sample_text]))\n",
    "print(predictions[0])"
   ]
  },
  {
   "cell_type": "markdown",
   "metadata": {
    "id": "K0VQmGnEWcuz"
   },
   "source": [
    "Now, evaluate it again in a batch with a longer sentence. The result should be identical:"
   ]
  },
  {
   "cell_type": "code",
   "execution_count": 16,
   "metadata": {
    "execution": {
     "iopub.execute_input": "2021-06-16T15:27:14.950230Z",
     "iopub.status.busy": "2021-06-16T15:27:14.949537Z",
     "iopub.status.idle": "2021-06-16T15:27:15.090005Z",
     "shell.execute_reply": "2021-06-16T15:27:15.090350Z"
    },
    "id": "UIgpuTeFNDzq"
   },
   "outputs": [
    {
     "name": "stdout",
     "output_type": "stream",
     "text": [
      "[-0.00750345]\n"
     ]
    }
   ],
   "source": [
    "# predict on a sample text with padding\n",
    "\n",
    "padding = \"the \" * 2000\n",
    "predictions = model.predict(np.array([sample_text, padding]))\n",
    "print(predictions[0])"
   ]
  },
  {
   "cell_type": "markdown",
   "metadata": {
    "id": "sRI776ZcH3Tf"
   },
   "source": [
    "Compile the Keras model to configure the training process:"
   ]
  },
  {
   "cell_type": "code",
   "execution_count": 17,
   "metadata": {
    "execution": {
     "iopub.execute_input": "2021-06-16T15:27:15.097667Z",
     "iopub.status.busy": "2021-06-16T15:27:15.097133Z",
     "iopub.status.idle": "2021-06-16T15:27:15.102308Z",
     "shell.execute_reply": "2021-06-16T15:27:15.102633Z"
    },
    "id": "kj2xei41YZjC"
   },
   "outputs": [],
   "source": [
    "model.compile(loss=tf.keras.losses.BinaryCrossentropy(from_logits=True),\n",
    "              optimizer=tf.keras.optimizers.Adam(1e-4),\n",
    "              metrics=['accuracy'])"
   ]
  },
  {
   "cell_type": "markdown",
   "metadata": {
    "id": "zIwH3nto596k"
   },
   "source": [
    "## Train the model"
   ]
  },
  {
   "cell_type": "code",
   "execution_count": 18,
   "metadata": {
    "execution": {
     "iopub.execute_input": "2021-06-16T15:27:15.106445Z",
     "iopub.status.busy": "2021-06-16T15:27:15.105926Z",
     "iopub.status.idle": "2021-06-16T15:32:34.972029Z",
     "shell.execute_reply": "2021-06-16T15:32:34.972405Z"
    },
    "id": "hw86wWS4YgR2"
   },
   "outputs": [
    {
     "name": "stdout",
     "output_type": "stream",
     "text": [
      "Epoch 1/10\n",
      "391/391 [==============================] - 39s 84ms/step - loss: 0.6487 - accuracy: 0.5628 - val_loss: 0.5179 - val_accuracy: 0.7068\n",
      "Epoch 2/10\n",
      "391/391 [==============================] - 32s 78ms/step - loss: 0.4195 - accuracy: 0.8019 - val_loss: 0.3714 - val_accuracy: 0.8349\n",
      "Epoch 3/10\n",
      "391/391 [==============================] - 31s 78ms/step - loss: 0.3451 - accuracy: 0.8479 - val_loss: 0.3427 - val_accuracy: 0.8495\n",
      "Epoch 4/10\n",
      "391/391 [==============================] - 31s 77ms/step - loss: 0.3238 - accuracy: 0.8577 - val_loss: 0.3328 - val_accuracy: 0.8396\n",
      "Epoch 5/10\n",
      "391/391 [==============================] - 32s 77ms/step - loss: 0.3144 - accuracy: 0.8638 - val_loss: 0.3377 - val_accuracy: 0.8328\n",
      "Epoch 6/10\n",
      "391/391 [==============================] - 31s 76ms/step - loss: 0.3105 - accuracy: 0.8655 - val_loss: 0.3301 - val_accuracy: 0.8630\n",
      "Epoch 7/10\n",
      "391/391 [==============================] - 32s 79ms/step - loss: 0.3061 - accuracy: 0.8672 - val_loss: 0.3756 - val_accuracy: 0.8562\n",
      "Epoch 8/10\n",
      "391/391 [==============================] - 31s 77ms/step - loss: 0.3056 - accuracy: 0.8694 - val_loss: 0.3190 - val_accuracy: 0.8583\n",
      "Epoch 9/10\n",
      "391/391 [==============================] - 31s 77ms/step - loss: 0.3019 - accuracy: 0.8694 - val_loss: 0.3194 - val_accuracy: 0.8526\n",
      "Epoch 10/10\n",
      "391/391 [==============================] - 32s 77ms/step - loss: 0.2989 - accuracy: 0.8725 - val_loss: 0.3235 - val_accuracy: 0.8557\n"
     ]
    }
   ],
   "source": [
    "history = model.fit(train_dataset, epochs=10,\n",
    "                    validation_data=test_dataset,\n",
    "                    validation_steps=30)"
   ]
  },
  {
   "cell_type": "code",
   "execution_count": 19,
   "metadata": {
    "execution": {
     "iopub.execute_input": "2021-06-16T15:32:34.977631Z",
     "iopub.status.busy": "2021-06-16T15:32:34.976731Z",
     "iopub.status.idle": "2021-06-16T15:32:49.370252Z",
     "shell.execute_reply": "2021-06-16T15:32:49.370587Z"
    },
    "id": "BaNbXi43YgUT"
   },
   "outputs": [
    {
     "name": "stdout",
     "output_type": "stream",
     "text": [
      "391/391 [==============================] - 14s 36ms/step - loss: 0.3221 - accuracy: 0.8602\n",
      "Test Loss: 0.3221438527107239\n",
      "Test Accuracy: 0.8601599931716919\n"
     ]
    }
   ],
   "source": [
    "test_loss, test_acc = model.evaluate(test_dataset)\n",
    "\n",
    "print('Test Loss:', test_loss)\n",
    "print('Test Accuracy:', test_acc)"
   ]
  },
  {
   "cell_type": "code",
   "execution_count": 20,
   "metadata": {
    "execution": {
     "iopub.execute_input": "2021-06-16T15:32:49.393077Z",
     "iopub.status.busy": "2021-06-16T15:32:49.386490Z",
     "iopub.status.idle": "2021-06-16T15:32:49.614170Z",
     "shell.execute_reply": "2021-06-16T15:32:49.614505Z"
    },
    "id": "OZmwt_mzaQJk"
   },
   "outputs": [
    {
     "data": {
      "text/plain": [
       "(0.0, 0.6662303507328033)"
      ]
     },
     "execution_count": 1,
     "metadata": {},
     "output_type": "execute_result"
    },
    {
     "data": {
      "image/png": "[encoded data removed]",
      "text/plain": [
       "<Figure size 1152x576 with 2 Axes>"
      ]
     },
     "metadata": {
      "needs_background": "light"
     },
     "output_type": "display_data"
    }
   ],
   "source": [
    "plt.figure(figsize=(16, 8))\n",
    "plt.subplot(1, 2, 1)\n",
    "plot_graphs(history, 'accuracy')\n",
    "plt.ylim(None, 1)\n",
    "plt.subplot(1, 2, 2)\n",
    "plot_graphs(history, 'loss')\n",
    "plt.ylim(0, None)"
   ]
  },
  {
   "cell_type": "markdown",
   "metadata": {
    "id": "DwSE_386uhxD"
   },
   "source": [
    "Run a prediction on a new sentence:\n",
    "\n",
    "If the prediction is >= 0.0, it is positive else it is negative."
   ]
  },
  {
   "cell_type": "code",
   "execution_count": 21,
   "metadata": {
    "execution": {
     "iopub.execute_input": "2021-06-16T15:32:49.619083Z",
     "iopub.status.busy": "2021-06-16T15:32:49.618264Z",
     "iopub.status.idle": "2021-06-16T15:32:51.346760Z",
     "shell.execute_reply": "2021-06-16T15:32:51.347196Z"
    },
    "id": "ZXgfQSgRW6zU"
   },
   "outputs": [],
   "source": [
    "sample_text = ('The movie was cool. The animation and the graphics '\n",
    "               'were out of this world. I would recommend this movie.')\n",
    "predictions = model.predict(np.array([sample_text]))"
   ]
  },
  {
   "cell_type": "markdown",
   "metadata": {
    "id": "7g1evcaRpTKm"
   },
   "source": [
    "## Stack two or more LSTM layers\n",
    "\n",
    "Keras recurrent layers have two available modes that are controlled by the `return_sequences` constructor argument:\n",
    "\n",
    "* If `False` it returns only the last output for each input sequence (a 2D tensor of shape (batch_size, output_features)). This is the default, used in the previous model.\n",
    "\n",
    "* If `True` the full sequences of successive outputs for each timestep is returned (a 3D tensor of shape `(batch_size, timesteps, output_features)`).\n",
    "\n",
    "Here is what the flow of information looks like with `return_sequences=True`:\n",
    "\n",
    "![layered_bidirectional](images/layered_bidirectional.png)"
   ]
  },
  {
   "cell_type": "markdown",
   "metadata": {
    "id": "wbSClCrG1z8l"
   },
   "source": [
    "The interesting thing about using an `RNN` with `return_sequences=True` is that the output still has 3-axes, like the input, so it can be passed to another RNN layer, like this:"
   ]
  },
  {
   "cell_type": "code",
   "execution_count": 22,
   "metadata": {
    "execution": {
     "iopub.execute_input": "2021-06-16T15:32:51.357701Z",
     "iopub.status.busy": "2021-06-16T15:32:51.352188Z",
     "iopub.status.idle": "2021-06-16T15:32:51.374882Z",
     "shell.execute_reply": "2021-06-16T15:32:51.375208Z"
    },
    "id": "jo1jjO3vn0jo"
   },
   "outputs": [],
   "source": [
    "model = tf.keras.Sequential([\n",
    "    encoder,\n",
    "    tf.keras.layers.Embedding(len(encoder.get_vocabulary()), 64, mask_zero=True),\n",
    "    tf.keras.layers.Bidirectional(tf.keras.layers.LSTM(64,  return_sequences=True)),\n",
    "    tf.keras.layers.Bidirectional(tf.keras.layers.LSTM(32)),\n",
    "    tf.keras.layers.Dense(64, activation='relu'),\n",
    "    tf.keras.layers.Dropout(0.5),\n",
    "    tf.keras.layers.Dense(1)\n",
    "])"
   ]
  },
  {
   "cell_type": "code",
   "execution_count": 23,
   "metadata": {
    "execution": {
     "iopub.execute_input": "2021-06-16T15:32:51.381765Z",
     "iopub.status.busy": "2021-06-16T15:32:51.380874Z",
     "iopub.status.idle": "2021-06-16T15:32:51.384747Z",
     "shell.execute_reply": "2021-06-16T15:32:51.385072Z"
    },
    "id": "hEPV5jVGp-is"
   },
   "outputs": [],
   "source": [
    "model.compile(loss=tf.keras.losses.BinaryCrossentropy(from_logits=True),\n",
    "              optimizer=tf.keras.optimizers.Adam(1e-4),\n",
    "              metrics=['accuracy'])"
   ]
  },
  {
   "cell_type": "code",
   "execution_count": 24,
   "metadata": {
    "execution": {
     "iopub.execute_input": "2021-06-16T15:32:51.389541Z",
     "iopub.status.busy": "2021-06-16T15:32:51.388670Z",
     "iopub.status.idle": "2021-06-16T15:42:03.082034Z",
     "shell.execute_reply": "2021-06-16T15:42:03.082450Z"
    },
    "id": "LeSE-YjdqAeN"
   },
   "outputs": [
    {
     "name": "stdout",
     "output_type": "stream",
     "text": [
      "Epoch 1/10\n",
      "391/391 [==============================] - 71s 145ms/step - loss: 0.6427 - accuracy: 0.5680 - val_loss: 0.4593 - val_accuracy: 0.8021\n",
      "Epoch 2/10\n",
      "391/391 [==============================] - 54s 134ms/step - loss: 0.4064 - accuracy: 0.8222 - val_loss: 0.3657 - val_accuracy: 0.8339\n",
      "Epoch 3/10\n",
      "391/391 [==============================] - 52s 133ms/step - loss: 0.3467 - accuracy: 0.8529 - val_loss: 0.3382 - val_accuracy: 0.8536\n",
      "Epoch 4/10\n",
      "391/391 [==============================] - 53s 133ms/step - loss: 0.3238 - accuracy: 0.8604 - val_loss: 0.3312 - val_accuracy: 0.8469\n",
      "Epoch 5/10\n",
      "391/391 [==============================] - 54s 134ms/step - loss: 0.3182 - accuracy: 0.8647 - val_loss: 0.3220 - val_accuracy: 0.8568\n",
      "Epoch 6/10\n",
      "391/391 [==============================] - 53s 133ms/step - loss: 0.3140 - accuracy: 0.8648 - val_loss: 0.3193 - val_accuracy: 0.8609\n",
      "Epoch 7/10\n",
      "391/391 [==============================] - 53s 134ms/step - loss: 0.3068 - accuracy: 0.8683 - val_loss: 0.3268 - val_accuracy: 0.8620\n",
      "Epoch 8/10\n",
      "391/391 [==============================] - 54s 137ms/step - loss: 0.3066 - accuracy: 0.8687 - val_loss: 0.3237 - val_accuracy: 0.8625\n",
      "Epoch 9/10\n",
      "391/391 [==============================] - 53s 132ms/step - loss: 0.3057 - accuracy: 0.8686 - val_loss: 0.3200 - val_accuracy: 0.8526\n",
      "Epoch 10/10\n",
      "391/391 [==============================] - 54s 137ms/step - loss: 0.3006 - accuracy: 0.8719 - val_loss: 0.3247 - val_accuracy: 0.8583\n"
     ]
    }
   ],
   "source": [
    "history = model.fit(train_dataset, epochs=10,\n",
    "                    validation_data=test_dataset,\n",
    "                    validation_steps=30)"
   ]
  },
  {
   "cell_type": "code",
   "execution_count": 25,
   "metadata": {
    "execution": {
     "iopub.execute_input": "2021-06-16T15:42:03.087043Z",
     "iopub.status.busy": "2021-06-16T15:42:03.086445Z",
     "iopub.status.idle": "2021-06-16T15:42:27.580254Z",
     "shell.execute_reply": "2021-06-16T15:42:27.580609Z"
    },
    "id": "_LdwilM1qPM3"
   },
   "outputs": [
    {
     "name": "stdout",
     "output_type": "stream",
     "text": [
      "391/391 [==============================] - 24s 62ms/step - loss: 0.3207 - accuracy: 0.8607\n",
      "Test Loss: 0.3207028806209564\n",
      "Test Accuracy: 0.8607199788093567\n"
     ]
    }
   ],
   "source": [
    "test_loss, test_acc = model.evaluate(test_dataset)\n",
    "\n",
    "print('Test Loss:', test_loss)\n",
    "print('Test Accuracy:', test_acc)"
   ]
  },
  {
   "cell_type": "code",
   "execution_count": 26,
   "metadata": {
    "execution": {
     "iopub.execute_input": "2021-06-16T15:42:27.584583Z",
     "iopub.status.busy": "2021-06-16T15:42:27.583985Z",
     "iopub.status.idle": "2021-06-16T15:42:31.053306Z",
     "shell.execute_reply": "2021-06-16T15:42:31.052863Z"
    },
    "id": "ykUKnAoqbycW"
   },
   "outputs": [
    {
     "name": "stdout",
     "output_type": "stream",
     "text": [
      "[[-1.8613071]]\n"
     ]
    }
   ],
   "source": [
    "# predict on a sample text without padding.\n",
    "\n",
    "sample_text = ('The movie was not good. The animation and the graphics '\n",
    "               'were terrible. I would not recommend this movie.')\n",
    "predictions = model.predict(np.array([sample_text]))\n",
    "print(predictions)"
   ]
  },
  {
   "cell_type": "code",
   "execution_count": 27,
   "metadata": {
    "execution": {
     "iopub.execute_input": "2021-06-16T15:42:31.090545Z",
     "iopub.status.busy": "2021-06-16T15:42:31.084913Z",
     "iopub.status.idle": "2021-06-16T15:42:31.279144Z",
     "shell.execute_reply": "2021-06-16T15:42:31.279483Z"
    },
    "id": "_YYub0EDtwCu"
   },
   "outputs": [
    {
     "data": {
      "image/png": "[encoded data removed]",
      "text/plain": [
       "<Figure size 1152x432 with 2 Axes>"
      ]
     },
     "metadata": {
      "needs_background": "light"
     },
     "output_type": "display_data"
    }
   ],
   "source": [
    "plt.figure(figsize=(16, 6))\n",
    "plt.subplot(1, 2, 1)\n",
    "plot_graphs(history, 'accuracy')\n",
    "plt.subplot(1, 2, 2)\n",
    "plot_graphs(history, 'loss')"
   ]
  },
  {
   "cell_type": "markdown",
   "metadata": {
    "id": "9xvpE3BaGw_V"
   },
   "source": [
    "Check out other existing recurrent layers such as [GRU layers](https://www.tensorflow.org/api_docs/python/tf/keras/layers/GRU).\n",
    "\n",
    "If you're interestied in building custom RNNs, see the [Keras RNN Guide](https://www.tensorflow.org/guide/keras/rnn).\n"
   ]
  }
 ],
 "metadata": {
  "accelerator": "GPU",
  "colab": {
   "collapsed_sections": [],
   "name": "text_classification_rnn.ipynb",
   "provenance": [],
   "toc_visible": true
  },
  "kernelspec": {
   "display_name": "Python 3",
   "language": "python",
   "name": "python3"
  },
  "language_info": {
   "codemirror_mode": {
    "name": "ipython",
    "version": 3
   },
   "file_extension": ".py",
   "mimetype": "text/x-python",
   "name": "python",
   "nbconvert_exporter": "python",
   "pygments_lexer": "ipython3",
   "version": "3.8.10"
  }
 },
 "nbformat": 4,
 "nbformat_minor": 1
}
